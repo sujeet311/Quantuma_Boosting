{
  "cells": [
    {
      "cell_type": "markdown",
      "metadata": {
        "id": "view-in-github",
        "colab_type": "text"
      },
      "source": [
        "<a href=\"https://colab.research.google.com/github/sujeet311/Quantuma_Boosting/blob/main/classical_ml.ipynb\" target=\"_parent\"><img src=\"https://colab.research.google.com/assets/colab-badge.svg\" alt=\"Open In Colab\"/></a>"
      ]
    },
    {
      "cell_type": "code",
      "source": [
        "from google.colab import drive\n",
        "drive.mount('/content/drive')"
      ],
      "metadata": {
        "colab": {
          "base_uri": "https://localhost:8080/"
        },
        "id": "mxICP3e7HD4g",
        "outputId": "2c986756-bb2a-41b1-d0c3-746c39fefecf"
      },
      "execution_count": null,
      "outputs": [
        {
          "output_type": "stream",
          "name": "stdout",
          "text": [
            "Mounted at /content/drive\n"
          ]
        }
      ]
    },
    {
      "cell_type": "code",
      "source": [
        "\n",
        "from numpy import loadtxt\n",
        "X_train = loadtxt('/content/drive/MyDrive/FINALCODE/Data/traintest/X_train.csv',delimiter=',')\n",
        "y_train = loadtxt('/content/drive/MyDrive/FINALCODE/Data/traintest/y_train.csv',delimiter=',')\n",
        "X_test = loadtxt('/content/drive/MyDrive/FINALCODE/Data/traintest/X_test.csv',delimiter=',')\n",
        "y_test = loadtxt('/content/drive/MyDrive/FINALCODE/Data/traintest/y_test.csv',delimiter=',')"
      ],
      "metadata": {
        "id": "T0PLyDIpR-wu"
      },
      "execution_count": null,
      "outputs": []
    },
    {
      "cell_type": "code",
      "source": [
        "y_train = (2* y_train )-1\n",
        "y_test = (2* y_test) -1"
      ],
      "metadata": {
        "id": "QQ-eWLO8JyOz"
      },
      "execution_count": null,
      "outputs": []
    },
    {
      "cell_type": "code",
      "source": [
        "# scaling data\n",
        "\n",
        "from sklearn.preprocessing import StandardScaler\n",
        "\n",
        "scaler = StandardScaler()\n",
        "\n",
        "X_train = scaler.fit_transform(X_train)\n",
        "X_test = scaler.transform(X_test)"
      ],
      "metadata": {
        "id": "MBKclvMLyc-0"
      },
      "execution_count": null,
      "outputs": []
    },
    {
      "cell_type": "code",
      "execution_count": null,
      "metadata": {
        "id": "8Qgbycg9IS6K"
      },
      "outputs": [],
      "source": [
        "import pandas as pd\n",
        "import numpy as np\n",
        "import seaborn as sns\n",
        "import matplotlib.pyplot as plt\n",
        "import warnings\n",
        "from sklearn.metrics import make_scorer, f1_score, recall_score, precision_score,accuracy_score\n",
        "from sklearn.metrics import classification_report, confusion_matrix, accuracy_score\n",
        "from sklearn.model_selection import cross_val_score\n"
      ]
    },
    {
      "cell_type": "code",
      "execution_count": null,
      "metadata": {
        "colab": {
          "base_uri": "https://localhost:8080/"
        },
        "id": "FR4A36U2If5I",
        "outputId": "9cbb4e6d-3acf-4d52-959a-78021a8dca7a"
      },
      "outputs": [
        {
          "output_type": "stream",
          "name": "stdout",
          "text": [
            "[[41269 16761]\n",
            " [14652 43945]]\n",
            "              precision    recall  f1-score   support\n",
            "\n",
            "           0       0.74      0.71      0.72     58030\n",
            "           1       0.72      0.75      0.74     58597\n",
            "\n",
            "    accuracy                           0.73    116627\n",
            "   macro avg       0.73      0.73      0.73    116627\n",
            "weighted avg       0.73      0.73      0.73    116627\n",
            "\n"
          ]
        }
      ],
      "source": [
        "# fitting data to model\n",
        "\n",
        "from sklearn.linear_model import LogisticRegression\n",
        "\n",
        "log_reg = LogisticRegression(C= 0.1, penalty= 'l2')\n",
        "log_reg.fit(X_train, y_train)\n",
        "# model predictions\n",
        "\n",
        "y_pred = log_reg.predict(X_test)\n",
        "# confusion matrix\n",
        "print(confusion_matrix(y_test, y_pred))\n",
        "# classification report\n",
        "target_names = ['0','1']\n",
        "print(classification_report(y_test, y_pred,target_names=target_names))"
      ]
    },
    {
      "cell_type": "code",
      "execution_count": null,
      "metadata": {
        "colab": {
          "base_uri": "https://localhost:8080/"
        },
        "id": "sASJ7JZBJFq5",
        "outputId": "140fd895-5308-4d66-f772-63fce782b42a"
      },
      "outputs": [
        {
          "output_type": "stream",
          "name": "stdout",
          "text": [
            "0.9355154027347525\n",
            "0.8503348281272776\n",
            "              precision    recall  f1-score   support\n",
            "\n",
            "           0       0.89      0.80      0.84     58030\n",
            "           1       0.82      0.90      0.86     58597\n",
            "\n",
            "    accuracy                           0.85    116627\n",
            "   macro avg       0.85      0.85      0.85    116627\n",
            "weighted avg       0.85      0.85      0.85    116627\n",
            "\n"
          ]
        }
      ],
      "source": [
        "from sklearn.tree import DecisionTreeClassifier\n",
        "\n",
        "dtc = DecisionTreeClassifier()\n",
        "dtc = DecisionTreeClassifier(criterion = 'entropy', max_depth = 28, min_samples_leaf = 1,\n",
        "                             min_samples_split = 8, splitter = 'random')\n",
        "dtc.fit(X_train, y_train)\n",
        "y_pred = dtc.predict(X_test)\n",
        "# accuracy score\n",
        "\n",
        "print(accuracy_score(y_train, dtc.predict(X_train)))\n",
        "\n",
        "dtc_acc = accuracy_score(y_test, dtc.predict(X_test))\n",
        "print(dtc_acc)\n",
        "# classification report\n",
        "\n",
        "target_names = ['0','1']\n",
        "print(classification_report(y_test, y_pred,target_names=target_names))"
      ]
    },
    {
      "cell_type": "code",
      "execution_count": null,
      "metadata": {
        "colab": {
          "base_uri": "https://localhost:8080/"
        },
        "id": "ut-tjpDiJdGA",
        "outputId": "6992f03a-d145-49f7-f6d2-178663ba98c1"
      },
      "outputs": [
        {
          "output_type": "stream",
          "name": "stdout",
          "text": [
            "0.8666909200483598\n",
            "0.8034074442453292\n",
            "[[40086 17944]\n",
            " [ 4984 53613]]\n",
            "              precision    recall  f1-score   support\n",
            "\n",
            "        -1.0       0.89      0.69      0.78     58030\n",
            "         1.0       0.75      0.91      0.82     58597\n",
            "\n",
            "    accuracy                           0.80    116627\n",
            "   macro avg       0.82      0.80      0.80    116627\n",
            "weighted avg       0.82      0.80      0.80    116627\n",
            "\n"
          ]
        }
      ],
      "source": [
        "from sklearn.neighbors import KNeighborsClassifier\n",
        "\n",
        "knn = KNeighborsClassifier()\n",
        "knn.fit(X_train, y_train)\n",
        "# model predictions\n",
        "\n",
        "y_pred = knn.predict(X_test)\n",
        "# accuracy score\n",
        "\n",
        "print(accuracy_score(y_train, knn.predict(X_train)))\n",
        "\n",
        "knn_acc = accuracy_score(y_test, knn.predict(X_test))\n",
        "print(knn_acc)\n",
        "\n",
        "# confusion matrix\n",
        "\n",
        "print(confusion_matrix(y_test, y_pred))\n",
        "# classification report\n",
        "\n",
        "target_names = ['Non-Dibetic','Dibetic']\n",
        "print(classification_report(y_test, y_pred,target_names=target_names))"
      ]
    },
    {
      "cell_type": "code",
      "execution_count": null,
      "metadata": {
        "colab": {
          "base_uri": "https://localhost:8080/"
        },
        "id": "mNpNeqbYJv2r",
        "outputId": "a4a7a2d7-0f2f-42af-c1fb-8570c6afc47b"
      },
      "outputs": [
        {
          "output_type": "stream",
          "name": "stdout",
          "text": [
            "0.7599356182958692\n",
            "0.7516527047767669\n",
            "[[41346 16684]\n",
            " [12280 46317]]\n",
            "              precision    recall  f1-score   support\n",
            "\n",
            "           0       0.77      0.71      0.74     58030\n",
            "           1       0.74      0.79      0.76     58597\n",
            "\n",
            "    accuracy                           0.75    116627\n",
            "   macro avg       0.75      0.75      0.75    116627\n",
            "weighted avg       0.75      0.75      0.75    116627\n",
            "\n"
          ]
        }
      ],
      "source": [
        "from sklearn.ensemble import RandomForestClassifier\n",
        "\n",
        "rand_clf = RandomForestClassifier(criterion = 'entropy', max_depth = 11, max_features = 'auto',\n",
        "                                  min_samples_leaf = 2, min_samples_split = 3, n_estimators = 130)\n",
        "rand_clf.fit(X_train, y_train)\n",
        "\n",
        "y_pred = rand_clf.predict(X_test)\n",
        "# accuracy score\n",
        "\n",
        "print(accuracy_score(y_train, rand_clf.predict(X_train)))\n",
        "\n",
        "ran_clf_acc = accuracy_score(y_test, y_pred)\n",
        "print(ran_clf_acc)\n",
        "# confusion matrix\n",
        "\n",
        "print(confusion_matrix(y_test, y_pred))\n",
        "# classification report\n",
        "target_names = ['0','1']\n",
        "print(classification_report(y_test, y_pred,target_names=target_names))"
      ]
    },
    {
      "cell_type": "code",
      "execution_count": null,
      "metadata": {
        "id": "hgkYRYjTKGAc",
        "colab": {
          "base_uri": "https://localhost:8080/",
          "height": 241
        },
        "outputId": "921d4cb1-f617-4a67-93fc-af6f5fa31ba6",
        "collapsed": true
      },
      "outputs": [
        {
          "output_type": "error",
          "ename": "NameError",
          "evalue": "ignored",
          "traceback": [
            "\u001b[0;31m---------------------------------------------------------------------------\u001b[0m",
            "\u001b[0;31mNameError\u001b[0m                                 Traceback (most recent call last)",
            "\u001b[0;32m<ipython-input-11-226812fd57e8>\u001b[0m in \u001b[0;36m<module>\u001b[0;34m\u001b[0m\n\u001b[1;32m      2\u001b[0m \u001b[0;32mimport\u001b[0m \u001b[0mjoblib\u001b[0m\u001b[0;34m\u001b[0m\u001b[0;34m\u001b[0m\u001b[0m\n\u001b[1;32m      3\u001b[0m \u001b[0;31m# Save the model as a pickle in a file\u001b[0m\u001b[0;34m\u001b[0m\u001b[0;34m\u001b[0m\u001b[0;34m\u001b[0m\u001b[0m\n\u001b[0;32m----> 4\u001b[0;31m \u001b[0mjoblib\u001b[0m\u001b[0;34m.\u001b[0m\u001b[0mdump\u001b[0m\u001b[0;34m(\u001b[0m\u001b[0mknn\u001b[0m\u001b[0;34m,\u001b[0m \u001b[0;34m'/content/drive/MyDrive/FINALCODE/Model/knn.pkl'\u001b[0m\u001b[0;34m)\u001b[0m\u001b[0;34m\u001b[0m\u001b[0;34m\u001b[0m\u001b[0m\n\u001b[0m\u001b[1;32m      5\u001b[0m \u001b[0;31m# Save the model as a pickle in a file\u001b[0m\u001b[0;34m\u001b[0m\u001b[0;34m\u001b[0m\u001b[0;34m\u001b[0m\u001b[0m\n\u001b[1;32m      6\u001b[0m \u001b[0mjoblib\u001b[0m\u001b[0;34m.\u001b[0m\u001b[0mdump\u001b[0m\u001b[0;34m(\u001b[0m\u001b[0mrand_clf\u001b[0m\u001b[0;34m,\u001b[0m \u001b[0;34m'/content/drive/MyDrive/FINALCODE/Model/rand_clf.pkl'\u001b[0m\u001b[0;34m)\u001b[0m\u001b[0;34m\u001b[0m\u001b[0;34m\u001b[0m\u001b[0m\n",
            "\u001b[0;31mNameError\u001b[0m: name 'knn' is not defined"
          ]
        }
      ],
      "source": [
        "from joblib import Parallel, delayed\n",
        "import joblib\n",
        "# Save the model as a pickle in a file\n",
        "joblib.dump(knn, '/content/drive/MyDrive/FINALCODE/Model/knn.pkl')\n",
        "# Save the model as a pickle in a file\n",
        "joblib.dump(rand_clf, '/content/drive/MyDrive/FINALCODE/Model/rand_clf.pkl')\n",
        "# Save the model as a pickle in a file\n",
        "joblib.dump(dtc, '/content/drive/MyDrive/FINALCODE/Model/dtc.pkl')\n",
        "\n",
        "# Save the model as a pickle in a file\n",
        "joblib.dump(log_reg, '/content/drive/MyDrive/FINALCODE/Model/log_reg.pkl')\n"
      ]
    },
    {
      "cell_type": "code",
      "execution_count": null,
      "metadata": {
        "id": "eDuGf3eFm_RP"
      },
      "outputs": [],
      "source": [
        "\n",
        "from joblib import Parallel, delayed\n",
        "import joblib\n",
        "knn = joblib.load('/content/drive/MyDrive/FINALCODE/Model/knn.pkl')\n",
        "dtc = joblib.load('/content/drive/MyDrive/FINALCODE/Model/dtc.pkl' )\n",
        "rand_clf = joblib.load('/content/drive/MyDrive/FINALCODE/Model/rand_clf.pkl')"
      ]
    },
    {
      "cell_type": "code",
      "source": [
        "import time"
      ],
      "metadata": {
        "id": "a7BGMuJzGzy2"
      },
      "execution_count": null,
      "outputs": []
    },
    {
      "cell_type": "code",
      "execution_count": null,
      "metadata": {
        "colab": {
          "base_uri": "https://localhost:8080/"
        },
        "id": "rbFF0R9XvYvx",
        "outputId": "8dff841b-0f91-4d5b-8a19-1ee3390dbc8d"
      },
      "outputs": [
        {
          "output_type": "stream",
          "name": "stdout",
          "text": [
            "0.8358270383358913\n",
            "[[43296 14734]\n",
            " [ 4413 54184]]\n",
            "              precision    recall  f1-score   support\n",
            "\n",
            "           0       0.91      0.75      0.82     58030\n",
            "           1       0.79      0.92      0.85     58597\n",
            "\n",
            "    accuracy                           0.84    116627\n",
            "   macro avg       0.85      0.84      0.83    116627\n",
            "weighted avg       0.85      0.84      0.83    116627\n",
            "\n"
          ]
        },
        {
          "output_type": "execute_result",
          "data": {
            "text/plain": [
              "576.026002407074"
            ]
          },
          "metadata": {},
          "execution_count": 13
        }
      ],
      "source": [
        "from sklearn.ensemble import VotingClassifier\n",
        "\n",
        "classifiers = [ ('K Nearest Neighbours', knn), ('Random classifier', rand_clf),\n",
        "               ('Decision Tree', dtc)]\n",
        "\n",
        "hard_vc = VotingClassifier(estimators = classifiers, voting='hard')\n",
        "t=time.time()\n",
        "hard_vc.fit(X_train, y_train)\n",
        "y_pred = hard_vc.predict(X_test)\n",
        "# accuracy score\n",
        "\n",
        "#print(accuracy_score(y_train, hard_vc.predict(X_train)))\n",
        "\n",
        "vc_acc = accuracy_score(y_test, y_pred)\n",
        "print(vc_acc)\n",
        "# confusion matrix\n",
        "\n",
        "print(confusion_matrix(y_test, y_pred))\n",
        "# classification report\n",
        "target_names = ['0','1']\n",
        "print(classification_report(y_test, y_pred,target_names=target_names))\n",
        "elapsed_ab = time.time()-t\n",
        "elapsed_ab"
      ]
    },
    {
      "cell_type": "code",
      "execution_count": null,
      "metadata": {
        "id": "6zuwCqaI1iyD",
        "colab": {
          "base_uri": "https://localhost:8080/"
        },
        "outputId": "2f877f62-b666-4ef5-af2c-cb47e57aa55a"
      },
      "outputs": [
        {
          "output_type": "stream",
          "name": "stdout",
          "text": [
            "0.8625446937673095\n",
            "[[45660 12370]\n",
            " [ 3661 54936]]\n",
            "              precision    recall  f1-score   support\n",
            "\n",
            "           0       0.93      0.79      0.85     58030\n",
            "           1       0.82      0.94      0.87     58597\n",
            "\n",
            "    accuracy                           0.86    116627\n",
            "   macro avg       0.87      0.86      0.86    116627\n",
            "weighted avg       0.87      0.86      0.86    116627\n",
            "\n"
          ]
        },
        {
          "output_type": "execute_result",
          "data": {
            "text/plain": [
              "579.9606854915619"
            ]
          },
          "metadata": {},
          "execution_count": 14
        }
      ],
      "source": [
        "from sklearn.ensemble import VotingClassifier\n",
        "\n",
        "classifiers = [ ('K Nearest Neighbours', knn), ('Random classifier', rand_clf),\n",
        "               ('Decision Tree', dtc)]\n",
        "\n",
        "soft_vc = VotingClassifier(estimators = classifiers, voting='soft')\n",
        "t=time.time()\n",
        "soft_vc.fit(X_train, y_train)\n",
        "y_pred = soft_vc.predict(X_test)\n",
        "# accuracy score\n",
        "\n",
        "#print(accuracy_score(y_train, hard_vc.predict(X_train)))\n",
        "\n",
        "soft_vc_acc = accuracy_score(y_test, y_pred)\n",
        "print(soft_vc_acc)\n",
        "# confusion matrix\n",
        "\n",
        "print(confusion_matrix(y_test, y_pred))\n",
        "# classification report\n",
        "target_names = ['0','1']\n",
        "print(classification_report(y_test, y_pred,target_names=target_names))\n",
        "\n",
        "elapsed_ab = time.time()-t\n",
        "elapsed_ab"
      ]
    },
    {
      "cell_type": "code",
      "source": [
        "\n",
        "from joblib import Parallel, delayed\n",
        "import joblib\n",
        "knn = joblib.load('/content/drive/MyDrive/code thesis/ml_model/knn.pkl')\n",
        "dtc = joblib.load('/content/drive/MyDrive/code thesis/ml_model/dtc.pkl' )\n",
        "rand_clf = joblib.load('/content/drive/MyDrive/code thesis/ml_model/rand_clf.pkl')"
      ],
      "metadata": {
        "id": "JFULDLmm6xdw"
      },
      "execution_count": null,
      "outputs": []
    },
    {
      "cell_type": "code",
      "source": [
        "# evaluate each base model\n",
        "def evaluate_models(models, X_train, X_test, y_train, y_test):\n",
        "\t# fit and evaluate the models\n",
        "\tscores = list()\n",
        "\tfor name, model in models:\n",
        "\t\t# fit the model\n",
        "\t\tmodel.fit(X_train, y_train)\n",
        "\t\t# evaluate the model\n",
        "\t\tyhat = model.predict(X_test)\n",
        "\t\tacc = accuracy_score(y_test, yhat)\n",
        "\t\t# store the performance\n",
        "\t\tscores.append(acc)\n",
        "\t\t# report model performance\n",
        "\treturn scores"
      ],
      "metadata": {
        "id": "epeFg6Zf5I8B"
      },
      "execution_count": null,
      "outputs": []
    },
    {
      "cell_type": "code",
      "source": [
        "# fit and evaluate each model\n",
        "models=[('Random forest', rand_clf),('DTC', dtc),('KNN', knn)]\n",
        "scores = evaluate_models(models, X_train, X_test, y_train, y_test)\n",
        "# create the ensemble\n",
        "estimators_wt_avg=[('Random forest', rand_clf),('DTC', dtc),('KNN', knn)]\n",
        "ensemble = VotingClassifier(estimators=models, voting='soft', weights=scores)"
      ],
      "metadata": {
        "collapsed": true,
        "id": "_zLr_qc5576g"
      },
      "execution_count": null,
      "outputs": []
    },
    {
      "cell_type": "code",
      "source": [
        "scores= [0.7517470225590986, 0.8445814434050434, 0.8034074442453292]"
      ],
      "metadata": {
        "id": "tEhdVqd2-tfA"
      },
      "execution_count": null,
      "outputs": []
    },
    {
      "cell_type": "code",
      "source": [
        "import time"
      ],
      "metadata": {
        "id": "MyPCf4fmu5MW"
      },
      "execution_count": null,
      "outputs": []
    },
    {
      "cell_type": "code",
      "source": [
        "#Ensemble weighted average Classifier\n",
        "from sklearn.ensemble import VotingClassifier\n",
        "estimators_wt_avg=[('Random forest', rand_clf),('DTC', dtc),('KNN', knn)]\n",
        "#create a dictionary of our models\n",
        "wt_avg = VotingClassifier(estimators_wt_avg, voting='soft',weights=scores)\n",
        "#fit model to training data\n",
        "t= time.time()\n",
        "wt_avg.fit(X_train, y_train)\n",
        "y_pred = wt_avg.predict(X_test)\n",
        "# accuracy score\n",
        "\n",
        "#print(accuracy_score(y_train, hard_vc.predict(X_train)))\n",
        "\n",
        "wt_avg_acc = accuracy_score(y_test, y_pred)\n",
        "print(wt_avg_acc)\n",
        "# confusion matrix\n",
        "cm = confusion_matrix(y_test, y_pred)\n",
        "print(confusion_matrix(y_test, y_pred))\n",
        "# classification report\n",
        "target_names = ['0','1']\n",
        "print(classification_report(y_test, y_pred,target_names=target_names))\n",
        "elapsed_ab = time.time()-t\n",
        "elapsed_ab"
      ],
      "metadata": {
        "id": "BeOhEjav-0Yb",
        "colab": {
          "base_uri": "https://localhost:8080/"
        },
        "outputId": "8daa34af-9fbb-44ce-a85a-8b6fc9ea6773"
      },
      "execution_count": null,
      "outputs": [
        {
          "output_type": "stream",
          "name": "stdout",
          "text": [
            "0.8659658569627959\n",
            "[[45941 12089]\n",
            " [ 3543 55054]]\n",
            "              precision    recall  f1-score   support\n",
            "\n",
            "           0       0.93      0.79      0.85     58030\n",
            "           1       0.82      0.94      0.88     58597\n",
            "\n",
            "    accuracy                           0.87    116627\n",
            "   macro avg       0.87      0.87      0.87    116627\n",
            "weighted avg       0.87      0.87      0.87    116627\n",
            "\n"
          ]
        },
        {
          "output_type": "execute_result",
          "data": {
            "text/plain": [
              "606.7155401706696"
            ]
          },
          "metadata": {},
          "execution_count": 17
        }
      ]
    },
    {
      "cell_type": "code",
      "source": [
        "from joblib import Parallel, delayed\n",
        "import joblib\n",
        "# Save the model as a pickle in a file\n",
        "joblib.dump(wt_avg, '/content/drive/MyDrive/FINALCODE/Qmodel/WT_AVG.pkl')\n",
        "\n"
      ],
      "metadata": {
        "id": "40da1sjULRZ5",
        "colab": {
          "base_uri": "https://localhost:8080/"
        },
        "outputId": "01f2e49e-6d7a-492e-b464-6e745d6954c6"
      },
      "execution_count": null,
      "outputs": [
        {
          "output_type": "execute_result",
          "data": {
            "text/plain": [
              "['/content/drive/MyDrive/FINALCODE/Qmodel/WT_AVG.pkl']"
            ]
          },
          "metadata": {},
          "execution_count": 13
        }
      ]
    }
  ],
  "metadata": {
    "colab": {
      "provenance": [],
      "include_colab_link": true
    },
    "kernelspec": {
      "display_name": "Python 3",
      "name": "python3"
    },
    "language_info": {
      "name": "python"
    }
  },
  "nbformat": 4,
  "nbformat_minor": 0
}