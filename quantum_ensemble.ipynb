{
  "nbformat": 4,
  "nbformat_minor": 0,
  "metadata": {
    "colab": {
      "provenance": [],
      "include_colab_link": true
    },
    "kernelspec": {
      "name": "python3",
      "display_name": "Python 3"
    },
    "language_info": {
      "name": "python"
    }
  },
  "cells": [
    {
      "cell_type": "markdown",
      "metadata": {
        "id": "view-in-github",
        "colab_type": "text"
      },
      "source": [
        "<a href=\"https://colab.research.google.com/github/sujeet311/Quantuma_Boosting/blob/main/quantum_ensemble.ipynb\" target=\"_parent\"><img src=\"https://colab.research.google.com/assets/colab-badge.svg\" alt=\"Open In Colab\"/></a>"
      ]
    },
    {
      "cell_type": "code",
      "execution_count": null,
      "metadata": {
        "id": "WII18gN4NAm4",
        "colab": {
          "base_uri": "https://localhost:8080/"
        },
        "collapsed": true,
        "outputId": "1b02ac68-db82-4619-c34f-62bee856e072"
      },
      "outputs": [
        {
          "output_type": "stream",
          "name": "stdout",
          "text": [
            "Looking in indexes: https://pypi.org/simple, https://us-python.pkg.dev/colab-wheels/public/simple/\n",
            "Requirement already satisfied: dwave.system in /usr/local/lib/python3.7/dist-packages (1.15.0)\n",
            "Requirement already satisfied: dwave-preprocessing<0.5,>=0.3 in /usr/local/lib/python3.7/dist-packages (from dwave.system) (0.4.0)\n",
            "Requirement already satisfied: dwave-networkx>=0.8.10 in /usr/local/lib/python3.7/dist-packages (from dwave.system) (0.8.12)\n",
            "Requirement already satisfied: dwave-cloud-client<0.11.0,>=0.9.1 in /usr/local/lib/python3.7/dist-packages (from dwave.system) (0.10.2)\n",
            "Requirement already satisfied: networkx<3.0,>=2.0 in /usr/local/lib/python3.7/dist-packages (from dwave.system) (2.6.3)\n",
            "Requirement already satisfied: minorminer<0.3.0,>=0.2.8 in /usr/local/lib/python3.7/dist-packages (from dwave.system) (0.2.9)\n",
            "Requirement already satisfied: numpy<2.0.0,>=1.17.3 in /usr/local/lib/python3.7/dist-packages (from dwave.system) (1.21.6)\n",
            "Requirement already satisfied: dwave-tabu>=0.4.2 in /usr/local/lib/python3.7/dist-packages (from dwave.system) (0.4.5)\n",
            "Requirement already satisfied: homebase<2.0.0,>=1.0.0 in /usr/local/lib/python3.7/dist-packages (from dwave.system) (1.0.1)\n",
            "Requirement already satisfied: dimod<0.13.0,>=0.10.0 in /usr/local/lib/python3.7/dist-packages (from dwave.system) (0.11.5)\n",
            "Requirement already satisfied: plucky>=0.4.3 in /usr/local/lib/python3.7/dist-packages (from dwave-cloud-client<0.11.0,>=0.9.1->dwave.system) (0.4.3)\n",
            "Requirement already satisfied: python-dateutil>=2.7 in /usr/local/lib/python3.7/dist-packages (from dwave-cloud-client<0.11.0,>=0.9.1->dwave.system) (2.8.2)\n",
            "Requirement already satisfied: click>=7.0 in /usr/local/lib/python3.7/dist-packages (from dwave-cloud-client<0.11.0,>=0.9.1->dwave.system) (7.1.2)\n",
            "Requirement already satisfied: pydantic>=1.7.3 in /usr/local/lib/python3.7/dist-packages (from dwave-cloud-client<0.11.0,>=0.9.1->dwave.system) (1.9.2)\n",
            "Requirement already satisfied: requests[socks]>=2.18 in /usr/local/lib/python3.7/dist-packages (from dwave-cloud-client<0.11.0,>=0.9.1->dwave.system) (2.23.0)\n",
            "Requirement already satisfied: diskcache>=5.2.1 in /usr/local/lib/python3.7/dist-packages (from dwave-cloud-client<0.11.0,>=0.9.1->dwave.system) (5.4.0)\n",
            "Requirement already satisfied: rectangle-packer>=2.0.1 in /usr/local/lib/python3.7/dist-packages (from minorminer<0.3.0,>=0.2.8->dwave.system) (2.0.1)\n",
            "Requirement already satisfied: scipy in /usr/local/lib/python3.7/dist-packages (from minorminer<0.3.0,>=0.2.8->dwave.system) (1.7.3)\n",
            "Requirement already satisfied: fasteners in /usr/local/lib/python3.7/dist-packages (from minorminer<0.3.0,>=0.2.8->dwave.system) (0.18)\n",
            "Requirement already satisfied: typing-extensions>=3.7.4.3 in /usr/local/lib/python3.7/dist-packages (from pydantic>=1.7.3->dwave-cloud-client<0.11.0,>=0.9.1->dwave.system) (4.1.1)\n",
            "Requirement already satisfied: six>=1.5 in /usr/local/lib/python3.7/dist-packages (from python-dateutil>=2.7->dwave-cloud-client<0.11.0,>=0.9.1->dwave.system) (1.15.0)\n",
            "Requirement already satisfied: urllib3!=1.25.0,!=1.25.1,<1.26,>=1.21.1 in /usr/local/lib/python3.7/dist-packages (from requests[socks]>=2.18->dwave-cloud-client<0.11.0,>=0.9.1->dwave.system) (1.24.3)\n",
            "Requirement already satisfied: idna<3,>=2.5 in /usr/local/lib/python3.7/dist-packages (from requests[socks]>=2.18->dwave-cloud-client<0.11.0,>=0.9.1->dwave.system) (2.10)\n",
            "Requirement already satisfied: chardet<4,>=3.0.2 in /usr/local/lib/python3.7/dist-packages (from requests[socks]>=2.18->dwave-cloud-client<0.11.0,>=0.9.1->dwave.system) (3.0.4)\n",
            "Requirement already satisfied: certifi>=2017.4.17 in /usr/local/lib/python3.7/dist-packages (from requests[socks]>=2.18->dwave-cloud-client<0.11.0,>=0.9.1->dwave.system) (2022.6.15)\n",
            "Requirement already satisfied: PySocks!=1.5.7,>=1.5.6 in /usr/local/lib/python3.7/dist-packages (from requests[socks]>=2.18->dwave-cloud-client<0.11.0,>=0.9.1->dwave.system) (1.7.1)\n"
          ]
        }
      ],
      "source": [
        "\n",
        "pip install dwave.system"
      ]
    },
    {
      "cell_type": "code",
      "source": [
        "from google.colab import drive\n",
        "drive.mount('/content/drive')"
      ],
      "metadata": {
        "id": "Y61U68x9Z05z",
        "colab": {
          "base_uri": "https://localhost:8080/"
        },
        "outputId": "0be47cf9-e491-4e22-ed2c-aec123246898"
      },
      "execution_count": null,
      "outputs": [
        {
          "output_type": "stream",
          "name": "stdout",
          "text": [
            "Drive already mounted at /content/drive; to attempt to forcibly remount, call drive.mount(\"/content/drive\", force_remount=True).\n"
          ]
        }
      ]
    },
    {
      "cell_type": "code",
      "source": [
        "from dwave.system.samplers import DWaveSampler\n",
        "from dwave.system.composites import EmbeddingComposite\n",
        "from sklearn.impute import SimpleImputer\n",
        "#from qboost import QBoostClassifier,QboostPlus\n",
        "import time\n",
        "import numpy as np"
      ],
      "metadata": {
        "id": "sD5skjoHNQGq"
      },
      "execution_count": null,
      "outputs": []
    },
    {
      "cell_type": "code",
      "source": [
        "from sklearn.metrics import make_scorer, f1_score, recall_score, precision_score, accuracy_score\n",
        "from sklearn.metrics import classification_report, confusion_matrix"
      ],
      "metadata": {
        "id": "xNAt9VZKNSjr"
      },
      "execution_count": null,
      "outputs": []
    },
    {
      "cell_type": "markdown",
      "source": [
        "Import the train and test data set."
      ],
      "metadata": {
        "id": "AeZVpGDoNX5j"
      }
    },
    {
      "cell_type": "code",
      "source": [
        "from numpy import loadtxt\n",
        "X_train = loadtxt('/content/drive/MyDrive/FINALCODE/Data/traintest/X_train.csv',delimiter=',')\n",
        "y_train = loadtxt('/content/drive/MyDrive/FINALCODE/Data/traintest/y_train.csv',delimiter=',')\n",
        "X_test = loadtxt('/content/drive/MyDrive/FINALCODE/Data/traintest/X_test.csv',delimiter=',')\n",
        "y_test = loadtxt('/content/drive/MyDrive/FINALCODE/Data/traintest/y_test.csv',delimiter=',')"
      ],
      "metadata": {
        "id": "Q0qdRERdNUjm"
      },
      "execution_count": null,
      "outputs": []
    },
    {
      "cell_type": "markdown",
      "source": [
        "binaary spin (+1) and (-1) in order to convert into the format for Ising model"
      ],
      "metadata": {
        "id": "Ssx7zgpwNfW-"
      }
    },
    {
      "cell_type": "code",
      "source": [
        "y_train = (2* y_train )-1\n",
        "y_test = (2* y_test) -1"
      ],
      "metadata": {
        "id": "Rp6akZoxNbGK"
      },
      "execution_count": null,
      "outputs": []
    },
    {
      "cell_type": "code",
      "source": [
        "# scaling data\n",
        "\n",
        "from sklearn.preprocessing import StandardScaler\n",
        "\n",
        "scaler = StandardScaler()\n",
        "\n",
        "X_train = scaler.fit_transform(X_train)\n",
        "X_test = scaler.transform(X_test)"
      ],
      "metadata": {
        "id": "gK9KmM4XNica"
      },
      "execution_count": null,
      "outputs": []
    },
    {
      "cell_type": "markdown",
      "source": [
        "Import the trained model on same data. the model selected on the basis of there performance score. Since Adaboost, weighted average voting, from classical is selected and qboost from qpu based selected for the ensemble."
      ],
      "metadata": {
        "id": "BgMGOgxwNlMk"
      }
    },
    {
      "cell_type": "code",
      "source": [
        "import joblib\n",
        " # qboost\n",
        "QBC= joblib.load('/content/drive/MyDrive/FINALCODE/Model/Qbc.pkl' )\n",
        "ada = joblib.load('/content/drive/MyDrive/FINALCODE/Model/ada.pkl' )   #  Adaboost\n",
        "wt_avg=joblib.load('/content/drive/MyDrive/FINALCODE/Model/Wt_avg.pkl' )  #weighted average\n"
      ],
      "metadata": {
        "id": "cqtK7KbzNprY"
      },
      "execution_count": null,
      "outputs": []
    },
    {
      "cell_type": "code",
      "source": [
        "y_pred = QBC.predict(X_test)\n",
        "QBC_accu = accuracy_score(y_test, y_pred)\n",
        "print(\"Test accurracy\",QBC_accu)\n"
      ],
      "metadata": {
        "colab": {
          "base_uri": "https://localhost:8080/"
        },
        "id": "KuxyAzWdQ7LL",
        "outputId": "c93a6942-0035-4306-be81-f63626874eec"
      },
      "execution_count": null,
      "outputs": [
        {
          "output_type": "stream",
          "name": "stdout",
          "text": [
            "Test accurracy 0.7235460056419183\n"
          ]
        }
      ]
    },
    {
      "cell_type": "markdown",
      "source": [
        "APi key for solver. in this case free solver DW_2000Q_6 is selected"
      ],
      "metadata": {
        "id": "3_n6vrW5NwD6"
      }
    },
    {
      "cell_type": "code",
      "source": [
        "# define sampler\n",
        "endpoint = 'https://cloud.dwavesys.com/sapi'\n",
        "token = 'DEV-a71a4e9dc32bb8967a50c5470614d84b8ca0e842'\n",
        "solver = 'DW_2000Q_6'\n",
        "dwave_sampler = DWaveSampler(endpoint=endpoint, token=token, solver=solver)\n",
        "emb_sampler = EmbeddingComposite(dwave_sampler)\n",
        "lmd = 1.0"
      ],
      "metadata": {
        "id": "MibpLRNCNwva"
      },
      "execution_count": null,
      "outputs": []
    },
    {
      "cell_type": "code",
      "source": [
        "# define parameters used in this function\n",
        "NUM_READS = 1000\n",
        "NUM_WEAK_CLASSIFIERS = 50\n",
        "TREE_DEPTH = 2\n",
        "DW_PARAMS = {'num_reads': NUM_READS,\n",
        "                 'auto_scale': True,\n",
        "                 'num_spin_reversal_transforms': 10,\n",
        "                 'postprocess': 'optimization',\n",
        "                 }\n",
        "emb_sampler = EmbeddingComposite(dwave_sampler)"
      ],
      "metadata": {
        "id": "JtfeHU9GNzze"
      },
      "execution_count": null,
      "outputs": []
    },
    {
      "cell_type": "code",
      "source": [
        "class QboostPlus(object):\n",
        "    \"\"\"\n",
        "    Only for Classifiers\n",
        "    Quantum boost existing (weak) classifiers\n",
        "    \"\"\"\n",
        "\n",
        "    def __init__(self, weak_classifier_list):\n",
        "        self.estimators_ = weak_classifier_list\n",
        "        self.n_estimators = len(self.estimators_)\n",
        "        self.estimator_weights = np.ones(self.n_estimators) #estimator weights will be binary (Dwave output)\n",
        "\n",
        "    def fit(self, X, y, sampler, lmd=0.2, **kwargs):\n",
        "\n",
        "        n_data = len(X)\n",
        "        # step 1: create QUBO\n",
        "        hij = []\n",
        "        for h in self.estimators_:\n",
        "            hij.append(h.predict(X))\n",
        "\n",
        "        hij = np.array(hij)\n",
        "        # scale hij to [-1/N, 1/N]\n",
        "        hij = 1. * hij / self.n_estimators\n",
        "        return hij\n",
        "\n",
        "        ## Create QUBO\n",
        "        qii = n_data * 1. / (self.n_estimators ** 2) + lmd - 2 * np.dot(hij, y)\n",
        "        qij = np.dot(hij, hij.T)\n",
        "        Q = dict()\n",
        "        Q.update(dict(((k, k), v) for (k, v) in enumerate(qii)))\n",
        "        for i in range(self.n_estimators):\n",
        "            for j in range(i + 1, self.n_estimators):\n",
        "                Q[(i, j)] = qij[i, j]\n",
        "\n",
        "        # step 3: optimize QUBO\n",
        "        res = sampler.sample_qubo(Q, **kwargs)\n",
        "        samples = np.array([[samp[k] for k in range(self.n_estimators)] for samp in res])\n",
        "\n",
        "        # take the optimal solution as estimator weights\n",
        "        self.estimator_weights = samples[0]\n",
        "\n",
        "    def predict(self, X):\n",
        "\n",
        "        n_data = len(X)\n",
        "        T = 0\n",
        "        y = np.zeros(n_data)\n",
        "        for i, h in enumerate(self.estimators_):\n",
        "            y0 = self.estimator_weights[i] * h.predict(X)  # prediction of weak classifier\n",
        "            y += y0\n",
        "            T += np.sum(y0)\n",
        "\n",
        "        y = np.sign(y - T / (n_data*self.n_estimators))\n",
        "\n",
        "        return y"
      ],
      "metadata": {
        "id": "Jz6XQEMvcY0s"
      },
      "execution_count": null,
      "outputs": []
    },
    {
      "cell_type": "code",
      "source": [
        "ensemble = QboostPlus([wt_avg,ada,QBC])\n",
        "t=time.time()\n",
        "ensemble.fit(X_train, y_train, emb_sampler, lmd=lmd, **DW_PARAMS)\n",
        "print(\"Weight assign to each model=\",ensemble.estimator_weights)\n",
        "y_pred = ensemble.predict(X_test)\n",
        "print(\"Train Accurracy=\",accuracy_score(y_train, ensemble.predict(X_train)))\n",
        "\n",
        "ensemble_accu = accuracy_score(y_test, y_pred)\n",
        "print(\"Test accurracy\",ensemble_accu)\n",
        "# confusion matrix\n",
        "\n",
        "print(\"Confusion matrix :\",confusion_matrix(y_test, y_pred))\n",
        "# classification report\n",
        "target_names = ['0','1']\n",
        "print(classification_report(y_test, y_pred,target_names=target_names))\n",
        "elapsed_ab = time.time()-t\n",
        "print(\"Time taken:\",elapsed_ab)\n"
      ],
      "metadata": {
        "colab": {
          "base_uri": "https://localhost:8080/"
        },
        "id": "ztRo9SrCN6CD",
        "outputId": "0eadf9c1-6245-4cba-c6bf-9160eee84fd3"
      },
      "execution_count": null,
      "outputs": [
        {
          "output_type": "stream",
          "name": "stdout",
          "text": [
            "Weight assign to each model= [1. 1. 1.]\n",
            "Train Accurracy= 0.9628629279711312\n",
            "Test accurracy 0.8916031450693236\n",
            "Confusion matrix : [[48544  9486]\n",
            " [ 3156 55441]]\n",
            "              precision    recall  f1-score   support\n",
            "\n",
            "           0       0.94      0.84      0.88     58030\n",
            "           1       0.85      0.95      0.90     58597\n",
            "\n",
            "    accuracy                           0.89    116627\n",
            "   macro avg       0.90      0.89      0.89    116627\n",
            "weighted avg       0.90      0.89      0.89    116627\n",
            "\n",
            "Time taken: 30.622539520263672\n"
          ]
        }
      ]
    },
    {
      "cell_type": "code",
      "source": [
        "from joblib import Parallel, delayed\n",
        "import joblib\n",
        "# Save the model as a pickle in a file\n",
        "joblib.dump(ensemble, '/content/drive/MyDrive/FINALCODE/Model/Qensemble.pkl')"
      ],
      "metadata": {
        "id": "jJrWATc3N8mj",
        "colab": {
          "base_uri": "https://localhost:8080/"
        },
        "outputId": "79c107bf-56f1-464d-a6eb-e3b31450326b"
      },
      "execution_count": null,
      "outputs": [
        {
          "output_type": "execute_result",
          "data": {
            "text/plain": [
              "['/content/drive/MyDrive/FINALCODE/Model/Qensemble.pkl']"
            ]
          },
          "metadata": {},
          "execution_count": 18
        }
      ]
    }
  ]
}