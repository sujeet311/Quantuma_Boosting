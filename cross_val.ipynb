{
  "cells": [
    {
      "cell_type": "markdown",
      "metadata": {
        "id": "view-in-github",
        "colab_type": "text"
      },
      "source": [
        "<a href=\"https://colab.research.google.com/github/sujeet311/Quantuma_Boosting/blob/main/cross_val.ipynb\" target=\"_parent\"><img src=\"https://colab.research.google.com/assets/colab-badge.svg\" alt=\"Open In Colab\"/></a>"
      ]
    },
    {
      "cell_type": "code",
      "execution_count": null,
      "metadata": {
        "id": "x7ULdodQKqeu"
      },
      "outputs": [],
      "source": [
        "import pandas as pd\n",
        "import numpy as np\n",
        "import seaborn as sns\n",
        "import matplotlib.pyplot as plt\n",
        "import warnings\n",
        "warnings.filterwarnings('ignore')"
      ]
    },
    {
      "cell_type": "code",
      "execution_count": null,
      "metadata": {
        "colab": {
          "base_uri": "https://localhost:8080/"
        },
        "collapsed": true,
        "id": "XwbL8dYgijCa",
        "outputId": "842a3b4a-6602-41a4-d478-695c32e796d4"
      },
      "outputs": [
        {
          "name": "stdout",
          "output_type": "stream",
          "text": [
            "Looking in indexes: https://pypi.org/simple, https://us-python.pkg.dev/colab-wheels/public/simple/\n",
            "Collecting catboost\n",
            "  Downloading catboost-1.0.6-cp37-none-manylinux1_x86_64.whl (76.6 MB)\n",
            "\u001b[K     |████████████████████████████████| 76.6 MB 1.2 MB/s \n",
            "\u001b[?25hRequirement already satisfied: plotly in /usr/local/lib/python3.7/dist-packages (from catboost) (5.5.0)\n",
            "Requirement already satisfied: numpy>=1.16.0 in /usr/local/lib/python3.7/dist-packages (from catboost) (1.21.6)\n",
            "Requirement already satisfied: six in /usr/local/lib/python3.7/dist-packages (from catboost) (1.15.0)\n",
            "Requirement already satisfied: pandas>=0.24.0 in /usr/local/lib/python3.7/dist-packages (from catboost) (1.3.5)\n",
            "Requirement already satisfied: matplotlib in /usr/local/lib/python3.7/dist-packages (from catboost) (3.2.2)\n",
            "Requirement already satisfied: graphviz in /usr/local/lib/python3.7/dist-packages (from catboost) (0.10.1)\n",
            "Requirement already satisfied: scipy in /usr/local/lib/python3.7/dist-packages (from catboost) (1.7.3)\n",
            "Requirement already satisfied: pytz>=2017.3 in /usr/local/lib/python3.7/dist-packages (from pandas>=0.24.0->catboost) (2022.2.1)\n",
            "Requirement already satisfied: python-dateutil>=2.7.3 in /usr/local/lib/python3.7/dist-packages (from pandas>=0.24.0->catboost) (2.8.2)\n",
            "Requirement already satisfied: kiwisolver>=1.0.1 in /usr/local/lib/python3.7/dist-packages (from matplotlib->catboost) (1.4.4)\n",
            "Requirement already satisfied: pyparsing!=2.0.4,!=2.1.2,!=2.1.6,>=2.0.1 in /usr/local/lib/python3.7/dist-packages (from matplotlib->catboost) (3.0.9)\n",
            "Requirement already satisfied: cycler>=0.10 in /usr/local/lib/python3.7/dist-packages (from matplotlib->catboost) (0.11.0)\n",
            "Requirement already satisfied: typing-extensions in /usr/local/lib/python3.7/dist-packages (from kiwisolver>=1.0.1->matplotlib->catboost) (4.1.1)\n",
            "Requirement already satisfied: tenacity>=6.2.0 in /usr/local/lib/python3.7/dist-packages (from plotly->catboost) (8.0.1)\n",
            "Installing collected packages: catboost\n",
            "Successfully installed catboost-1.0.6\n"
          ]
        }
      ],
      "source": [
        "pip install catboost"
      ]
    },
    {
      "cell_type": "code",
      "execution_count": null,
      "metadata": {
        "colab": {
          "base_uri": "https://localhost:8080/"
        },
        "id": "weIBRUmDxAXe",
        "outputId": "369d4d1c-3a13-496b-c55b-d80e17fb4a93"
      },
      "outputs": [
        {
          "output_type": "stream",
          "name": "stdout",
          "text": [
            "Drive already mounted at /content/drive; to attempt to forcibly remount, call drive.mount(\"/content/drive\", force_remount=True).\n"
          ]
        }
      ],
      "source": [
        "from google.colab import drive\n",
        "drive.mount('/content/drive')"
      ]
    },
    {
      "cell_type": "code",
      "execution_count": null,
      "metadata": {
        "id": "QQsSqsTXCdrQ"
      },
      "outputs": [],
      "source": [
        "from sklearn.metrics import make_scorer, f1_score, recall_score, precision_score, roc_curve,accuracy_score\n",
        "from sklearn.metrics import classification_report, confusion_matrix, accuracy_score"
      ]
    },
    {
      "cell_type": "code",
      "execution_count": null,
      "metadata": {
        "id": "yQFhayq1DdnO"
      },
      "outputs": [],
      "source": [
        "from sklearn.model_selection import GridSearchCV,cross_val_score,learning_curve"
      ]
    },
    {
      "cell_type": "code",
      "execution_count": null,
      "metadata": {
        "colab": {
          "base_uri": "https://localhost:8080/"
        },
        "id": "N-JEbKvzIcj6",
        "outputId": "b57b4f36-6ad5-4d3a-9b96-0f28685a8678"
      },
      "outputs": [
        {
          "output_type": "execute_result",
          "data": {
            "text/plain": [
              "(388754, 22)"
            ]
          },
          "metadata": {},
          "execution_count": 19
        }
      ],
      "source": [
        "df = pd.read_csv('/content/drive/MyDrive/code thesis/val.csv') #Load the CSV file\n",
        "df= df.drop('Unnamed: 0',axis=1)\n",
        "df.shape"
      ]
    },
    {
      "cell_type": "code",
      "execution_count": null,
      "metadata": {
        "id": "c5REvZ7uLP62"
      },
      "outputs": [],
      "source": [
        "from sklearn.preprocessing import StandardScaler\n",
        "X = df.drop(['Diabetes_binary'],axis=1)\n",
        "y = df['Diabetes_binary']\n",
        "\n",
        "y = (2* y) -1"
      ]
    },
    {
      "cell_type": "code",
      "execution_count": null,
      "metadata": {
        "colab": {
          "base_uri": "https://localhost:8080/",
          "height": 300
        },
        "id": "fYz5-t2Q18aX",
        "outputId": "2b387ddb-5294-4a3e-9f46-9ae61cdc21eb"
      },
      "outputs": [
        {
          "output_type": "execute_result",
          "data": {
            "text/plain": [
              "        HighBP  HighChol  CholCheck   BMI  Smoker  Stroke  \\\n",
              "133160     1.0       0.0        1.0  28.0     0.0     0.0   \n",
              "109050     1.0       1.0        1.0  33.0     1.0     0.0   \n",
              "308079     0.0       1.0        1.0  28.0     1.0     0.0   \n",
              "177962     1.0       1.0        1.0  35.0     1.0     1.0   \n",
              "308391     1.0       1.0        1.0  32.0     1.0     0.0   \n",
              "\n",
              "        HeartDiseaseorAttack  PhysActivity  Fruits  Veggies  ...  \\\n",
              "133160                   0.0           1.0     1.0      1.0  ...   \n",
              "109050                   0.0           0.0     1.0      1.0  ...   \n",
              "308079                   0.0           1.0     1.0      1.0  ...   \n",
              "177962                   0.0           1.0     1.0      1.0  ...   \n",
              "308391                   0.0           1.0     1.0      1.0  ...   \n",
              "\n",
              "        AnyHealthcare  NoDocbcCost  GenHlth  MentHlth  PhysHlth  DiffWalk  \\\n",
              "133160            1.0          0.0      5.0       1.0       2.0       0.0   \n",
              "109050            0.0          0.0      3.0       0.0       3.0       0.0   \n",
              "308079            1.0          0.0      3.0       3.0       3.0       0.0   \n",
              "177962            1.0          0.0      1.0       1.0       2.0       1.0   \n",
              "308391            1.0          0.0      1.0       0.0       0.0       0.0   \n",
              "\n",
              "        Sex   Age  Education  Income  \n",
              "133160  0.0   9.0        4.0     2.0  \n",
              "109050  1.0  10.0        4.0     4.0  \n",
              "308079  0.0   8.0        6.0     8.0  \n",
              "177962  1.0  13.0        5.0     7.0  \n",
              "308391  1.0  10.0        6.0     8.0  \n",
              "\n",
              "[5 rows x 21 columns]"
            ],
            "text/html": [
              "\n",
              "  <div id=\"df-b55b4480-5cb5-4959-9ddd-76cbfd7dbbfa\">\n",
              "    <div class=\"colab-df-container\">\n",
              "      <div>\n",
              "<style scoped>\n",
              "    .dataframe tbody tr th:only-of-type {\n",
              "        vertical-align: middle;\n",
              "    }\n",
              "\n",
              "    .dataframe tbody tr th {\n",
              "        vertical-align: top;\n",
              "    }\n",
              "\n",
              "    .dataframe thead th {\n",
              "        text-align: right;\n",
              "    }\n",
              "</style>\n",
              "<table border=\"1\" class=\"dataframe\">\n",
              "  <thead>\n",
              "    <tr style=\"text-align: right;\">\n",
              "      <th></th>\n",
              "      <th>HighBP</th>\n",
              "      <th>HighChol</th>\n",
              "      <th>CholCheck</th>\n",
              "      <th>BMI</th>\n",
              "      <th>Smoker</th>\n",
              "      <th>Stroke</th>\n",
              "      <th>HeartDiseaseorAttack</th>\n",
              "      <th>PhysActivity</th>\n",
              "      <th>Fruits</th>\n",
              "      <th>Veggies</th>\n",
              "      <th>...</th>\n",
              "      <th>AnyHealthcare</th>\n",
              "      <th>NoDocbcCost</th>\n",
              "      <th>GenHlth</th>\n",
              "      <th>MentHlth</th>\n",
              "      <th>PhysHlth</th>\n",
              "      <th>DiffWalk</th>\n",
              "      <th>Sex</th>\n",
              "      <th>Age</th>\n",
              "      <th>Education</th>\n",
              "      <th>Income</th>\n",
              "    </tr>\n",
              "  </thead>\n",
              "  <tbody>\n",
              "    <tr>\n",
              "      <th>133160</th>\n",
              "      <td>1.0</td>\n",
              "      <td>0.0</td>\n",
              "      <td>1.0</td>\n",
              "      <td>28.0</td>\n",
              "      <td>0.0</td>\n",
              "      <td>0.0</td>\n",
              "      <td>0.0</td>\n",
              "      <td>1.0</td>\n",
              "      <td>1.0</td>\n",
              "      <td>1.0</td>\n",
              "      <td>...</td>\n",
              "      <td>1.0</td>\n",
              "      <td>0.0</td>\n",
              "      <td>5.0</td>\n",
              "      <td>1.0</td>\n",
              "      <td>2.0</td>\n",
              "      <td>0.0</td>\n",
              "      <td>0.0</td>\n",
              "      <td>9.0</td>\n",
              "      <td>4.0</td>\n",
              "      <td>2.0</td>\n",
              "    </tr>\n",
              "    <tr>\n",
              "      <th>109050</th>\n",
              "      <td>1.0</td>\n",
              "      <td>1.0</td>\n",
              "      <td>1.0</td>\n",
              "      <td>33.0</td>\n",
              "      <td>1.0</td>\n",
              "      <td>0.0</td>\n",
              "      <td>0.0</td>\n",
              "      <td>0.0</td>\n",
              "      <td>1.0</td>\n",
              "      <td>1.0</td>\n",
              "      <td>...</td>\n",
              "      <td>0.0</td>\n",
              "      <td>0.0</td>\n",
              "      <td>3.0</td>\n",
              "      <td>0.0</td>\n",
              "      <td>3.0</td>\n",
              "      <td>0.0</td>\n",
              "      <td>1.0</td>\n",
              "      <td>10.0</td>\n",
              "      <td>4.0</td>\n",
              "      <td>4.0</td>\n",
              "    </tr>\n",
              "    <tr>\n",
              "      <th>308079</th>\n",
              "      <td>0.0</td>\n",
              "      <td>1.0</td>\n",
              "      <td>1.0</td>\n",
              "      <td>28.0</td>\n",
              "      <td>1.0</td>\n",
              "      <td>0.0</td>\n",
              "      <td>0.0</td>\n",
              "      <td>1.0</td>\n",
              "      <td>1.0</td>\n",
              "      <td>1.0</td>\n",
              "      <td>...</td>\n",
              "      <td>1.0</td>\n",
              "      <td>0.0</td>\n",
              "      <td>3.0</td>\n",
              "      <td>3.0</td>\n",
              "      <td>3.0</td>\n",
              "      <td>0.0</td>\n",
              "      <td>0.0</td>\n",
              "      <td>8.0</td>\n",
              "      <td>6.0</td>\n",
              "      <td>8.0</td>\n",
              "    </tr>\n",
              "    <tr>\n",
              "      <th>177962</th>\n",
              "      <td>1.0</td>\n",
              "      <td>1.0</td>\n",
              "      <td>1.0</td>\n",
              "      <td>35.0</td>\n",
              "      <td>1.0</td>\n",
              "      <td>1.0</td>\n",
              "      <td>0.0</td>\n",
              "      <td>1.0</td>\n",
              "      <td>1.0</td>\n",
              "      <td>1.0</td>\n",
              "      <td>...</td>\n",
              "      <td>1.0</td>\n",
              "      <td>0.0</td>\n",
              "      <td>1.0</td>\n",
              "      <td>1.0</td>\n",
              "      <td>2.0</td>\n",
              "      <td>1.0</td>\n",
              "      <td>1.0</td>\n",
              "      <td>13.0</td>\n",
              "      <td>5.0</td>\n",
              "      <td>7.0</td>\n",
              "    </tr>\n",
              "    <tr>\n",
              "      <th>308391</th>\n",
              "      <td>1.0</td>\n",
              "      <td>1.0</td>\n",
              "      <td>1.0</td>\n",
              "      <td>32.0</td>\n",
              "      <td>1.0</td>\n",
              "      <td>0.0</td>\n",
              "      <td>0.0</td>\n",
              "      <td>1.0</td>\n",
              "      <td>1.0</td>\n",
              "      <td>1.0</td>\n",
              "      <td>...</td>\n",
              "      <td>1.0</td>\n",
              "      <td>0.0</td>\n",
              "      <td>1.0</td>\n",
              "      <td>0.0</td>\n",
              "      <td>0.0</td>\n",
              "      <td>0.0</td>\n",
              "      <td>1.0</td>\n",
              "      <td>10.0</td>\n",
              "      <td>6.0</td>\n",
              "      <td>8.0</td>\n",
              "    </tr>\n",
              "  </tbody>\n",
              "</table>\n",
              "<p>5 rows × 21 columns</p>\n",
              "</div>\n",
              "      <button class=\"colab-df-convert\" onclick=\"convertToInteractive('df-b55b4480-5cb5-4959-9ddd-76cbfd7dbbfa')\"\n",
              "              title=\"Convert this dataframe to an interactive table.\"\n",
              "              style=\"display:none;\">\n",
              "        \n",
              "  <svg xmlns=\"http://www.w3.org/2000/svg\" height=\"24px\"viewBox=\"0 0 24 24\"\n",
              "       width=\"24px\">\n",
              "    <path d=\"M0 0h24v24H0V0z\" fill=\"none\"/>\n",
              "    <path d=\"M18.56 5.44l.94 2.06.94-2.06 2.06-.94-2.06-.94-.94-2.06-.94 2.06-2.06.94zm-11 1L8.5 8.5l.94-2.06 2.06-.94-2.06-.94L8.5 2.5l-.94 2.06-2.06.94zm10 10l.94 2.06.94-2.06 2.06-.94-2.06-.94-.94-2.06-.94 2.06-2.06.94z\"/><path d=\"M17.41 7.96l-1.37-1.37c-.4-.4-.92-.59-1.43-.59-.52 0-1.04.2-1.43.59L10.3 9.45l-7.72 7.72c-.78.78-.78 2.05 0 2.83L4 21.41c.39.39.9.59 1.41.59.51 0 1.02-.2 1.41-.59l7.78-7.78 2.81-2.81c.8-.78.8-2.07 0-2.86zM5.41 20L4 18.59l7.72-7.72 1.47 1.35L5.41 20z\"/>\n",
              "  </svg>\n",
              "      </button>\n",
              "      \n",
              "  <style>\n",
              "    .colab-df-container {\n",
              "      display:flex;\n",
              "      flex-wrap:wrap;\n",
              "      gap: 12px;\n",
              "    }\n",
              "\n",
              "    .colab-df-convert {\n",
              "      background-color: #E8F0FE;\n",
              "      border: none;\n",
              "      border-radius: 50%;\n",
              "      cursor: pointer;\n",
              "      display: none;\n",
              "      fill: #1967D2;\n",
              "      height: 32px;\n",
              "      padding: 0 0 0 0;\n",
              "      width: 32px;\n",
              "    }\n",
              "\n",
              "    .colab-df-convert:hover {\n",
              "      background-color: #E2EBFA;\n",
              "      box-shadow: 0px 1px 2px rgba(60, 64, 67, 0.3), 0px 1px 3px 1px rgba(60, 64, 67, 0.15);\n",
              "      fill: #174EA6;\n",
              "    }\n",
              "\n",
              "    [theme=dark] .colab-df-convert {\n",
              "      background-color: #3B4455;\n",
              "      fill: #D2E3FC;\n",
              "    }\n",
              "\n",
              "    [theme=dark] .colab-df-convert:hover {\n",
              "      background-color: #434B5C;\n",
              "      box-shadow: 0px 1px 3px 1px rgba(0, 0, 0, 0.15);\n",
              "      filter: drop-shadow(0px 1px 2px rgba(0, 0, 0, 0.3));\n",
              "      fill: #FFFFFF;\n",
              "    }\n",
              "  </style>\n",
              "\n",
              "      <script>\n",
              "        const buttonEl =\n",
              "          document.querySelector('#df-b55b4480-5cb5-4959-9ddd-76cbfd7dbbfa button.colab-df-convert');\n",
              "        buttonEl.style.display =\n",
              "          google.colab.kernel.accessAllowed ? 'block' : 'none';\n",
              "\n",
              "        async function convertToInteractive(key) {\n",
              "          const element = document.querySelector('#df-b55b4480-5cb5-4959-9ddd-76cbfd7dbbfa');\n",
              "          const dataTable =\n",
              "            await google.colab.kernel.invokeFunction('convertToInteractive',\n",
              "                                                     [key], {});\n",
              "          if (!dataTable) return;\n",
              "\n",
              "          const docLinkHtml = 'Like what you see? Visit the ' +\n",
              "            '<a target=\"_blank\" href=https://colab.research.google.com/notebooks/data_table.ipynb>data table notebook</a>'\n",
              "            + ' to learn more about interactive tables.';\n",
              "          element.innerHTML = '';\n",
              "          dataTable['output_type'] = 'display_data';\n",
              "          await google.colab.output.renderOutput(dataTable, element);\n",
              "          const docLink = document.createElement('div');\n",
              "          docLink.innerHTML = docLinkHtml;\n",
              "          element.appendChild(docLink);\n",
              "        }\n",
              "      </script>\n",
              "    </div>\n",
              "  </div>\n",
              "  "
            ]
          },
          "metadata": {},
          "execution_count": 21
        }
      ],
      "source": [
        "X.sample(5)"
      ]
    },
    {
      "cell_type": "code",
      "execution_count": null,
      "metadata": {
        "colab": {
          "base_uri": "https://localhost:8080/"
        },
        "id": "j69mldMs2Bu5",
        "outputId": "3aa9563f-14a4-4124-9e19-ce07a8b33a8e"
      },
      "outputs": [
        {
          "output_type": "execute_result",
          "data": {
            "text/plain": [
              "361738   -1.0\n",
              "153548    1.0\n",
              "382406   -1.0\n",
              "224574   -1.0\n",
              "187710    1.0\n",
              "Name: Diabetes_binary, dtype: float64"
            ]
          },
          "metadata": {},
          "execution_count": 22
        }
      ],
      "source": [
        "y.sample(5)"
      ]
    },
    {
      "cell_type": "code",
      "execution_count": null,
      "metadata": {
        "id": "_fU3xAymxddA"
      },
      "outputs": [],
      "source": [
        "# scaling data\n",
        "\n",
        "from sklearn.preprocessing import StandardScaler\n",
        "\n",
        "scaler = StandardScaler()\n",
        "\n",
        "X = scaler.fit_transform(X)\n",
        ""
      ]
    },
    {
      "cell_type": "code",
      "execution_count": null,
      "metadata": {
        "id": "QtGTxeUxDcdk"
      },
      "outputs": [],
      "source": [
        "# Cross val metric\n",
        "def cross_val_metrics(model,cv) :\n",
        "    scores = ['accuracy', 'precision', 'recall','f1']\n",
        "    print(\"k - fold=\",cv)\n",
        "    for sc in scores:\n",
        "        scores = cross_val_score(model, X, y, cv = cv, scoring = sc)\n",
        "        print('[%s] : %0.5f (+/- %0.5f)'%(sc, scores.mean(), scores.std()))\n",
        ""
      ]
    },
    {
      "cell_type": "code",
      "execution_count": null,
      "metadata": {
        "id": "LHzfHxTODxcO"
      },
      "outputs": [],
      "source": [
        "import joblib\n",
        "QBC= joblib.load('/content/drive/MyDrive/FINALCODE/Model/QBC.pkl' )  # qboost\n",
        "ada = joblib.load('/content/drive/MyDrive/QC Code/model/ada.pkl' )   #  Adaboost\n",
        "wt_avg=joblib.load('/content/drive/MyDrive/QC Code/model/WT_AVG.pkl' )  #weighted average\n",
        "xgb=joblib.load('/content/drive/MyDrive/QC Code/model/xgb.pkl' )  #weighted average\n",
        "wt=joblib.load('/content/drive/MyDrive/QC Code/model/wt_avg.pkl' )  #weighted average\n",
        "qene=joblib.load('/content/drive/MyDrive/FINALCODE/Model/Qensembl.pkl' )\n"
      ]
    },
    {
      "cell_type": "code",
      "execution_count": null,
      "metadata": {
        "colab": {
          "base_uri": "https://localhost:8080/"
        },
        "id": "s-ay5Bs5P4yi",
        "outputId": "b8cfe817-1906-4330-ef38-3203c3510db1"
      },
      "outputs": [
        {
          "name": "stdout",
          "output_type": "stream",
          "text": [
            "k - fold= 5\n",
            "[accuracy] : 0.94911 (+/- 0.00162)\n",
            "[precision] : 0.91477 (+/- 0.00271)\n",
            "[recall] : 0.99036 (+/- 0.00027)\n",
            "[f1] : 0.95143 (+/- 0.00160)\n",
            "k - fold= 10\n"
          ]
        }
      ],
      "source": [
        "# Cross val majority\n",
        "cv = [5,10]\n",
        "for c in cv:\n",
        "  cross_ada= cross_val_metrics(ada,c)"
      ]
    },
    {
      "cell_type": "code",
      "execution_count": null,
      "metadata": {
        "colab": {
          "base_uri": "https://localhost:8080/"
        },
        "id": "Gf0RlYUakdrS",
        "outputId": "3a1af925-daae-4252-b69f-40fb485491ab"
      },
      "outputs": [
        {
          "output_type": "stream",
          "name": "stdout",
          "text": [
            "k - fold= 10\n",
            "[accuracy] : 0.95698 (+/- 0.00221)\n",
            "[precision] : 0.92440 (+/- 0.00402)\n",
            "[recall] : 0.99429 (+/- 0.00081)\n",
            "[f1] : 0.95860 (+/- 0.00215)\n"
          ]
        }
      ],
      "source": [
        "cv = [10]\n",
        "for c in cv:\n",
        "  cross_ada= cross_val_metrics(ada,c)"
      ]
    },
    {
      "cell_type": "code",
      "execution_count": null,
      "metadata": {
        "colab": {
          "base_uri": "https://localhost:8080/"
        },
        "id": "ji-mV7gRh-iE",
        "outputId": "61dc3fae-1dff-4575-cc96-604c3fd12985"
      },
      "outputs": [
        {
          "name": "stdout",
          "output_type": "stream",
          "text": [
            "k - fold= 5\n",
            "[accuracy] : 0.86163 (+/- 0.00484)\n",
            "[precision] : 0.82443 (+/- 0.00454)\n",
            "[recall] : 0.91892 (+/- 0.00200)\n",
            "[f1] : 0.86861 (+/- 0.00332)\n",
            "k - fold= 10\n",
            "[accuracy] : 0.87396 (+/- 0.00373)\n",
            "[precision] : 0.83306 (+/- 0.00475)\n",
            "[recall] : 0.93276 (+/- 0.00420)\n",
            "[f1] : 0.87928 (+/- 0.00279)\n"
          ]
        }
      ],
      "source": [
        "# Cross val majority\n",
        "cv = [5,10]\n",
        "for c in cv:\n",
        "  cross_wt_avg = cross_val_metrics(wt_avg,c)"
      ]
    },
    {
      "cell_type": "code",
      "execution_count": null,
      "metadata": {
        "colab": {
          "base_uri": "https://localhost:8080/"
        },
        "id": "VS_V-tjNiQKT",
        "outputId": "6ab8659f-4aba-4566-a2eb-1d3c141a6174"
      },
      "outputs": [
        {
          "name": "stdout",
          "output_type": "stream",
          "text": [
            "k - fold= 5\n",
            "[accuracy] : 0.77708 (+/- 0.00709)\n",
            "[precision] : 0.74849 (+/- 0.00981)\n",
            "[recall] : 0.83491 (+/- 0.00171)\n",
            "[f1] : 0.78930 (+/- 0.00522)\n",
            "k - fold= 10\n",
            "[accuracy] : 0.77756 (+/- 0.00791)\n",
            "[precision] : 0.74911 (+/- 0.01112)\n",
            "[recall] : 0.83507 (+/- 0.00254)\n",
            "[f1] : 0.78970 (+/- 0.00572)\n"
          ]
        }
      ],
      "source": [
        "# Cross val majority\n",
        "cv = [5,10]\n",
        "for c in cv:\n",
        "  cross_xgb = cross_val_metrics(xgb,c)"
      ]
    },
    {
      "cell_type": "code",
      "execution_count": null,
      "metadata": {
        "colab": {
          "base_uri": "https://localhost:8080/"
        },
        "id": "-DvlEtozi8Oo",
        "outputId": "47092470-ed55-4189-bc6a-32afbead3b91"
      },
      "outputs": [
        {
          "name": "stdout",
          "output_type": "stream",
          "text": [
            "k - fold= 5\n",
            "[accuracy] : 0.75728 (+/- 0.00690)\n",
            "[precision] : 0.73365 (+/- 0.00997)\n",
            "[recall] : 0.80822 (+/- 0.00279)\n",
            "[f1] : 0.76908 (+/- 0.00477)\n",
            "k - fold= 10\n",
            "[accuracy] : 0.75871 (+/- 0.00870)\n",
            "[precision] : 0.73498 (+/- 0.01183)\n",
            "[recall] : 0.80968 (+/- 0.00330)\n",
            "[f1] : 0.77047 (+/- 0.00632)\n"
          ]
        }
      ],
      "source": [
        "params= {'verbose':False}\n",
        "cv = [5,10]\n",
        "for c in cv:\n",
        "  cross_cgb = cross_val_metric(cgb,params,c)\n",
        "\n"
      ]
    },
    {
      "cell_type": "code",
      "execution_count": null,
      "metadata": {
        "colab": {
          "base_uri": "https://localhost:8080/"
        },
        "id": "ENORGSy6zF_g",
        "outputId": "8c5e4d83-4f6f-4457-e4b1-b6423e0367a0"
      },
      "outputs": [
        {
          "name": "stdout",
          "output_type": "stream",
          "text": [
            "k - fold= 5\n",
            "[accuracy] : 0.73555 (+/- 0.00733)\n",
            "[precision] : 0.72386 (+/- 0.01124)\n",
            "[recall] : 0.76215 (+/- 0.00249)\n",
            "[f1] : 0.74245 (+/- 0.00475)\n",
            "k - fold= 10\n",
            "[accuracy] : 0.73556 (+/- 0.00885)\n",
            "[precision] : 0.72399 (+/- 0.01286)\n",
            "[recall] : 0.76201 (+/- 0.00299)\n",
            "[f1] : 0.74243 (+/- 0.00608)\n"
          ]
        }
      ],
      "source": [
        "# Cross val majority\n",
        "# Cross val majority\n",
        "cv = [5,10]\n",
        "for c in cv:\n",
        "  cross_qbc = cross_val_metrics(QBC,c)"
      ]
    },
    {
      "cell_type": "code",
      "execution_count": null,
      "metadata": {
        "colab": {
          "base_uri": "https://localhost:8080/"
        },
        "id": "ireeegA6zN9H",
        "outputId": "997c1cde-1ec1-4571-fd75-bd979fa4e42b"
      },
      "outputs": [
        {
          "name": "stdout",
          "output_type": "stream",
          "text": [
            "k - fold= 5\n",
            "[accuracy] : 0.90418 (+/- 0.00425)\n",
            "[precision] : 0.86424 (+/- 0.00605)\n",
            "[recall] : 0.95907 (+/- 0.00116)\n",
            "[f1] : 0.90918 (+/- 0.00374)\n",
            "k - fold= 10\n",
            "[accuracy] : 0.91592 (+/- 0.00458)\n",
            "[precision] : 0.87709 (+/- 0.00710)\n",
            "[recall] : 0.96748 (+/- 0.00148)\n",
            "[f1] : 0.92005 (+/- 0.00404)\n"
          ]
        }
      ],
      "source": [
        "# Cross val majority\n",
        "cv = [5,10]\n",
        "for c in cv:\n",
        "  cross_qene = cross_val_metrics(qene,c)"
      ]
    },
    {
      "cell_type": "code",
      "source": [
        "# Learning curve\n",
        "def plot_learning_curve(estimator, title, X, y, ylim = None, cv = None,\n",
        "                        n_jobs = 1, train_sizes = np.linspace(.01, 1.0, 5)):\n",
        "\n",
        "    plt.figure(figsize=(8,5 ))\n",
        "    plt.title(title)\n",
        "    if ylim is not None:\n",
        "        plt.ylim(*ylim)\n",
        "    plt.xlabel('Training examples')\n",
        "    plt.ylabel('Score')\n",
        "    train_sizes, train_scores, test_scores = learning_curve(\n",
        "        estimator, X, y, cv = cv, n_jobs = n_jobs, train_sizes = train_sizes)\n",
        "    train_scores_mean = np.mean(train_scores, axis = 1)\n",
        "    train_scores_std = np.std(train_scores, axis = 1)\n",
        "    test_scores_mean = np.mean(test_scores, axis = 1)\n",
        "    test_scores_std = np.std(test_scores, axis = 1)\n",
        "    plt.grid()\n",
        "\n",
        "    plt.plot(train_sizes, train_scores_mean, 'o-', color = \"k\",\n",
        "             label = \"Training score\")\n",
        "    plt.plot(train_sizes, test_scores_mean, 'x-', color = \"c\",\n",
        "             label = \"Cross-validation score\")\n",
        "    plt.fill_between(train_sizes, train_scores_mean+train_scores_std, train_scores_mean-train_scores_std, color='#DDDDDD')\n",
        "\n",
        "    plt.fill_between(train_sizes, test_scores_mean+test_scores_std, test_scores_mean-test_scores_std, color='#DDDDDD')\n",
        "\n",
        "    plt.legend(loc = \"best\")\n",
        "    return plt"
      ],
      "metadata": {
        "id": "ydq5030T5r4_"
      },
      "execution_count": null,
      "outputs": []
    },
    {
      "cell_type": "code",
      "source": [
        "#Learning curve Log with best hyperpara\n",
        "plot_learning_curve(wt_avg, 'Learning Curve For Voting Classifier', X, y, (0.4,1.05), 5)\n",
        "plt.savefig('7')\n",
        "plt.show()"
      ],
      "metadata": {
        "colab": {
          "base_uri": "https://localhost:8080/",
          "height": 350
        },
        "id": "XTB3SEZH6ExP",
        "outputId": "a0dc6440-5178-43eb-d79f-474350c87071"
      },
      "execution_count": null,
      "outputs": [
        {
          "output_type": "display_data",
          "data": {
            "text/plain": [
              "<Figure size 576x360 with 1 Axes>"
            ],
            "image/png": "[encoded data removed]"
          },
          "metadata": {
            "needs_background": "light"
          }
        }
      ]
    },
    {
      "cell_type": "code",
      "source": [
        "#Learning curve Log with best hyperpara\n",
        "plot_learning_curve(wt, 'Learning Curve For Voting Classifier', X, y, (0.4,1.05), 5)\n",
        "plt.savefig('7')\n",
        "plt.show()"
      ],
      "metadata": {
        "colab": {
          "base_uri": "https://localhost:8080/",
          "height": 350
        },
        "id": "UP2WTpeN9p8x",
        "outputId": "06e15b14-b3f7-4b27-f2ee-566e049105da"
      },
      "execution_count": null,
      "outputs": [
        {
          "output_type": "display_data",
          "data": {
            "text/plain": [
              "<Figure size 576x360 with 1 Axes>"
            ],
            "image/png": "[encoded data removed]"
          },
          "metadata": {
            "needs_background": "light"
          }
        }
      ]
    },
    {
      "cell_type": "code",
      "source": [
        "#Learning curve Log with best hyperpara\n",
        "plot_learning_curve(qene, 'Learning Curve For Voting Classifier', X, y, (0.4,1.05), 5)\n",
        "plt.savefig('7')\n",
        "plt.show()"
      ],
      "metadata": {
        "colab": {
          "base_uri": "https://localhost:8080/",
          "height": 370
        },
        "id": "rMFCg4SYF7uR",
        "outputId": "1921ff80-9916-46b3-9462-08d6574788a7"
      },
      "execution_count": null,
      "outputs": [
        {
          "output_type": "display_data",
          "data": {
            "text/plain": [
              "<Figure size 1152x360 with 1 Axes>"
            ],
            "image/png": "[encoded data removed]"
          },
          "metadata": {
            "needs_background": "light"
          }
        }
      ]
    },
    {
      "cell_type": "code",
      "source": [
        "#Learning curve Log with best hyperpara\n",
        "plot_learning_curve(ada, 'Learning Curve For Voting Classifier', X, y, (0.4,1.05), 5)\n",
        "plt.savefig('7')\n",
        "plt.show()"
      ],
      "metadata": {
        "colab": {
          "base_uri": "https://localhost:8080/",
          "height": 370
        },
        "id": "fpgDKWPSM5Vx",
        "outputId": "2314dbd5-b957-48df-8ae7-d8d414a14729"
      },
      "execution_count": null,
      "outputs": [
        {
          "output_type": "display_data",
          "data": {
            "text/plain": [
              "<Figure size 1152x360 with 1 Axes>"
            ],
            "image/png": "[encoded data removed]"
          },
          "metadata": {
            "needs_background": "light"
          }
        }
      ]
    }
  ],
  "metadata": {
    "colab": {
      "provenance": [],
      "mount_file_id": "18HgXlXkFs_A4UO90_YEqinAlr7Hc1Dwm",
      "authorship_tag": "ABX9TyNghW79gtmKNvpF39w9uIxR",
      "include_colab_link": true
    },
    "kernelspec": {
      "display_name": "Python 3",
      "name": "python3"
    },
    "language_info": {
      "name": "python"
    }
  },
  "nbformat": 4,
  "nbformat_minor": 0
}