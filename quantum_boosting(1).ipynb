{
  "cells": [
    {
      "cell_type": "markdown",
      "metadata": {
        "id": "view-in-github",
        "colab_type": "text"
      },
      "source": [
        "<a href=\"https://colab.research.google.com/github/sujeet311/Quantuma_Boosting/blob/main/quantum_boosting(1).ipynb\" target=\"_parent\"><img src=\"https://colab.research.google.com/assets/colab-badge.svg\" alt=\"Open In Colab\"/></a>"
      ]
    },
    {
      "cell_type": "code",
      "execution_count": null,
      "metadata": {
        "id": "UOy4LEIzChgG"
      },
      "outputs": [],
      "source": [
        "import joblib\n",
        "import time\n",
        "from sklearn.metrics import make_scorer, f1_score, recall_score, precision_score, roc_curve,accuracy_score\n",
        "from sklearn.metrics import classification_report, confusion_matrix, accuracy_score\n",
        "from sklearn.model_selection import cross_val_score\n",
        "import matplotlib.pyplot as plt\n",
        "import numpy as np"
      ]
    },
    {
      "cell_type": "code",
      "execution_count": null,
      "metadata": {
        "colab": {
          "base_uri": "https://localhost:8080/"
        },
        "id": "U_sq930M_i8n",
        "outputId": "d6a6039e-9351-40c5-d67c-f12f0ead9551"
      },
      "outputs": [
        {
          "output_type": "stream",
          "name": "stdout",
          "text": [
            "Mounted at /content/drive\n"
          ]
        }
      ],
      "source": [
        "from google.colab import drive\n",
        "drive.mount('/content/drive')"
      ]
    },
    {
      "cell_type": "code",
      "execution_count": null,
      "metadata": {
        "colab": {
          "base_uri": "https://localhost:8080/"
        },
        "collapsed": true,
        "id": "77g5BSuT7-YA",
        "outputId": "25296a15-26d6-46c0-aff9-c38300a90eac"
      },
      "outputs": [
        {
          "output_type": "stream",
          "name": "stdout",
          "text": [
            "Looking in indexes: https://pypi.org/simple, https://us-python.pkg.dev/colab-wheels/public/simple/\n",
            "Collecting dwave.system\n",
            "  Downloading dwave_system-1.15.0-py3-none-any.whl (90 kB)\n",
            "\u001b[K     |████████████████████████████████| 90 kB 2.8 MB/s \n",
            "\u001b[?25hCollecting dimod<0.13.0,>=0.10.0\n",
            "  Downloading dimod-0.11.5-cp37-cp37m-manylinux_2_12_x86_64.manylinux2010_x86_64.whl (11.8 MB)\n",
            "\u001b[K     |████████████████████████████████| 11.8 MB 20.9 MB/s \n",
            "\u001b[?25hCollecting minorminer<0.3.0,>=0.2.8\n",
            "  Downloading minorminer-0.2.9-cp37-cp37m-manylinux_2_12_x86_64.manylinux2010_x86_64.whl (5.3 MB)\n",
            "\u001b[K     |████████████████████████████████| 5.3 MB 28.2 MB/s \n",
            "\u001b[?25hRequirement already satisfied: numpy<2.0.0,>=1.17.3 in /usr/local/lib/python3.7/dist-packages (from dwave.system) (1.21.6)\n",
            "Collecting dwave-tabu>=0.4.2\n",
            "  Downloading dwave_tabu-0.4.5-cp37-cp37m-manylinux_2_17_x86_64.manylinux2014_x86_64.whl (700 kB)\n",
            "\u001b[K     |████████████████████████████████| 700 kB 59.1 MB/s \n",
            "\u001b[?25hCollecting homebase<2.0.0,>=1.0.0\n",
            "  Downloading homebase-1.0.1-py2.py3-none-any.whl (11 kB)\n",
            "Collecting dwave-cloud-client<0.11.0,>=0.9.1\n",
            "  Downloading dwave_cloud_client-0.10.2-py3-none-any.whl (110 kB)\n",
            "\u001b[K     |████████████████████████████████| 110 kB 63.7 MB/s \n",
            "\u001b[?25hCollecting dwave-preprocessing<0.5,>=0.3\n",
            "  Downloading dwave_preprocessing-0.4.0-cp37-cp37m-manylinux_2_12_x86_64.manylinux2010_x86_64.whl (966 kB)\n",
            "\u001b[K     |████████████████████████████████| 966 kB 31.6 MB/s \n",
            "\u001b[?25hRequirement already satisfied: networkx<3.0,>=2.0 in /usr/local/lib/python3.7/dist-packages (from dwave.system) (2.6.3)\n",
            "Collecting dwave-networkx>=0.8.10\n",
            "  Downloading dwave_networkx-0.8.12-py3-none-any.whl (97 kB)\n",
            "\u001b[K     |████████████████████████████████| 97 kB 5.7 MB/s \n",
            "\u001b[?25hRequirement already satisfied: requests[socks]>=2.18 in /usr/local/lib/python3.7/dist-packages (from dwave-cloud-client<0.11.0,>=0.9.1->dwave.system) (2.23.0)\n",
            "Requirement already satisfied: python-dateutil>=2.7 in /usr/local/lib/python3.7/dist-packages (from dwave-cloud-client<0.11.0,>=0.9.1->dwave.system) (2.8.2)\n",
            "Collecting plucky>=0.4.3\n",
            "  Downloading plucky-0.4.3-py2.py3-none-any.whl (10 kB)\n",
            "Collecting diskcache>=5.2.1\n",
            "  Downloading diskcache-5.4.0-py3-none-any.whl (44 kB)\n",
            "\u001b[K     |████████████████████████████████| 44 kB 1.8 MB/s \n",
            "\u001b[?25hRequirement already satisfied: click>=7.0 in /usr/local/lib/python3.7/dist-packages (from dwave-cloud-client<0.11.0,>=0.9.1->dwave.system) (7.1.2)\n",
            "Requirement already satisfied: pydantic>=1.7.3 in /usr/local/lib/python3.7/dist-packages (from dwave-cloud-client<0.11.0,>=0.9.1->dwave.system) (1.9.2)\n",
            "Requirement already satisfied: scipy in /usr/local/lib/python3.7/dist-packages (from minorminer<0.3.0,>=0.2.8->dwave.system) (1.7.3)\n",
            "Collecting rectangle-packer>=2.0.1\n",
            "  Downloading rectangle_packer-2.0.1-cp37-cp37m-manylinux2010_x86_64.whl (246 kB)\n",
            "\u001b[K     |████████████████████████████████| 246 kB 59.9 MB/s \n",
            "\u001b[?25hCollecting fasteners\n",
            "  Downloading fasteners-0.18-py3-none-any.whl (18 kB)\n",
            "Requirement already satisfied: typing-extensions>=3.7.4.3 in /usr/local/lib/python3.7/dist-packages (from pydantic>=1.7.3->dwave-cloud-client<0.11.0,>=0.9.1->dwave.system) (4.1.1)\n",
            "Requirement already satisfied: six>=1.5 in /usr/local/lib/python3.7/dist-packages (from python-dateutil>=2.7->dwave-cloud-client<0.11.0,>=0.9.1->dwave.system) (1.15.0)\n",
            "Requirement already satisfied: certifi>=2017.4.17 in /usr/local/lib/python3.7/dist-packages (from requests[socks]>=2.18->dwave-cloud-client<0.11.0,>=0.9.1->dwave.system) (2022.6.15)\n",
            "Requirement already satisfied: idna<3,>=2.5 in /usr/local/lib/python3.7/dist-packages (from requests[socks]>=2.18->dwave-cloud-client<0.11.0,>=0.9.1->dwave.system) (2.10)\n",
            "Requirement already satisfied: urllib3!=1.25.0,!=1.25.1,<1.26,>=1.21.1 in /usr/local/lib/python3.7/dist-packages (from requests[socks]>=2.18->dwave-cloud-client<0.11.0,>=0.9.1->dwave.system) (1.24.3)\n",
            "Requirement already satisfied: chardet<4,>=3.0.2 in /usr/local/lib/python3.7/dist-packages (from requests[socks]>=2.18->dwave-cloud-client<0.11.0,>=0.9.1->dwave.system) (3.0.4)\n",
            "Requirement already satisfied: PySocks!=1.5.7,>=1.5.6 in /usr/local/lib/python3.7/dist-packages (from requests[socks]>=2.18->dwave-cloud-client<0.11.0,>=0.9.1->dwave.system) (1.7.1)\n",
            "Installing collected packages: dimod, rectangle-packer, plucky, homebase, fasteners, dwave-networkx, diskcache, minorminer, dwave-tabu, dwave-preprocessing, dwave-cloud-client, dwave.system\n",
            "Successfully installed dimod-0.11.5 diskcache-5.4.0 dwave-cloud-client-0.10.2 dwave-networkx-0.8.12 dwave-preprocessing-0.4.0 dwave-tabu-0.4.5 dwave.system-1.15.0 fasteners-0.18 homebase-1.0.1 minorminer-0.2.9 plucky-0.4.3 rectangle-packer-2.0.1\n"
          ]
        }
      ],
      "source": [
        "pip install dwave.system"
      ]
    },
    {
      "cell_type": "code",
      "execution_count": null,
      "metadata": {
        "id": "xu5IIEsd4u7d"
      },
      "outputs": [],
      "source": [
        "# import necessary packages\n",
        "\n",
        "from dwave.system.samplers import DWaveSampler\n",
        "from dwave.system.composites import EmbeddingComposite\n",
        "from sklearn.impute import SimpleImputer\n",
        "from qboost import WeakClassifiers, QBoostClassifier\n"
      ]
    },
    {
      "cell_type": "code",
      "execution_count": null,
      "metadata": {
        "id": "g8vAAl9V7DpM"
      },
      "outputs": [],
      "source": [
        "from numpy import loadtxt\n",
        "X_train = loadtxt('/content/drive/MyDrive/code thesis/train_test/X_train.csv',delimiter=',')\n",
        "y_train = loadtxt('/content/drive/MyDrive/code thesis/train_test/y_train.csv',delimiter=',')\n",
        "X_test = loadtxt('/content/drive/MyDrive/code thesis/train_test/X_test.csv',delimiter=',')\n",
        "y_test = loadtxt('/content/drive/MyDrive/code thesis/train_test/y_test.csv',delimiter=',')"
      ]
    },
    {
      "cell_type": "code",
      "execution_count": null,
      "metadata": {
        "id": "UvchObHMGILh"
      },
      "outputs": [],
      "source": [
        "y_train = (2* y_train )-1\n",
        "y_test = (2* y_test) -1"
      ]
    },
    {
      "cell_type": "code",
      "execution_count": null,
      "metadata": {
        "id": "1WvTOZih1Qqo"
      },
      "outputs": [],
      "source": [
        "# scaling data\n",
        "\n",
        "from sklearn.preprocessing import StandardScaler\n",
        "\n",
        "scaler = StandardScaler()\n",
        "\n",
        "X_train = scaler.fit_transform(X_train)\n",
        "X_test = scaler.transform(X_test)"
      ]
    },
    {
      "cell_type": "code",
      "execution_count": null,
      "metadata": {
        "id": "E1FQyuqw-YI2"
      },
      "outputs": [],
      "source": [
        "    # define sampler\n",
        "endpoint = 'https://cloud.dwavesys.com/sapi'\n",
        "token = 'DEV-a71a4e9dc32bb8967a50c5470614d84b8ca0e842'\n",
        "solver = 'DW_2000Q_6'\n",
        "dwave_sampler = DWaveSampler(endpoint=endpoint, token=token, solver=solver)\n",
        "emb_sampler = EmbeddingComposite(dwave_sampler)\n",
        "lmd = 1.0"
      ]
    },
    {
      "cell_type": "code",
      "execution_count": null,
      "metadata": {
        "id": "PmGVbNMS_czH"
      },
      "outputs": [],
      "source": [
        "# define parameters used in this function\n",
        "NUM_READS = 1000\n",
        "NUM_WEAK_CLASSIFIERS = 50\n",
        "TREE_DEPTH = 2\n",
        "DW_PARAMS = {'num_reads': NUM_READS,\n",
        "                 'auto_scale': True,\n",
        "                 'num_spin_reversal_transforms': 10,\n",
        "                 'postprocess': 'optimization',\n",
        "                 }\n",
        "emb_sampler = EmbeddingComposite(dwave_sampler)\n",
        ""
      ]
    },
    {
      "cell_type": "code",
      "execution_count": null,
      "metadata": {
        "id": "YvRpxu5Yhbgm"
      },
      "outputs": [],
      "source": []
    },
    {
      "cell_type": "code",
      "execution_count": null,
      "metadata": {
        "colab": {
          "base_uri": "https://localhost:8080/"
        },
        "id": "QYJvMq-6_yjW",
        "outputId": "8571d9ca-db83-4d4a-eb69-9fda78c8ee48"
      },
      "outputs": [
        {
          "output_type": "stream",
          "name": "stdout",
          "text": [
            "0.7259441363775002\n",
            "0.725346617850069\n",
            "              precision    recall  f1-score   support\n",
            "\n",
            "           0       0.73      0.71      0.72     58030\n",
            "           1       0.72      0.74      0.73     58597\n",
            "\n",
            "    accuracy                           0.73    116627\n",
            "   macro avg       0.73      0.73      0.73    116627\n",
            "weighted avg       0.73      0.73      0.73    116627\n",
            "\n"
          ]
        },
        {
          "output_type": "execute_result",
          "data": {
            "text/plain": [
              "17.043071746826172"
            ]
          },
          "metadata": {},
          "execution_count": 13
        }
      ],
      "source": [
        "QBC = QBoostClassifier(n_estimators=20, max_depth=2)\n",
        "t=time.time()\n",
        "QBC.fit(X_train, y_train,emb_sampler, lmd=lmd, **DW_PARAMS)\n",
        "y_pred = QBC.predict(X_test)\n",
        "print(accuracy_score(y_train, QBC.predict(X_train)))\n",
        "\n",
        "QBC_acc = accuracy_score(y_test, y_pred)\n",
        "print(QBC_acc)\n",
        "# confusion matrix\n",
        "target_names = ['0','1']\n",
        "cm=confusion_matrix(y_test, y_pred)\n",
        "# classification report\n",
        "\n",
        "print(classification_report(y_test, y_pred,target_names=target_names))\n",
        "elapsed_ab = time.time()-t\n",
        "elapsed_ab\n",
        "\n"
      ]
    },
    {
      "cell_type": "code",
      "execution_count": null,
      "metadata": {
        "colab": {
          "base_uri": "https://localhost:8080/"
        },
        "id": "JIm_Dd2Q8hgy",
        "outputId": "7dc6c458-c591-4362-b883-34867bc80a5a"
      },
      "outputs": [
        {
          "output_type": "execute_result",
          "data": {
            "text/plain": [
              "['/content/drive/MyDrive/QC Code/model/QBC.pkl']"
            ]
          },
          "metadata": {},
          "execution_count": 14
        }
      ],
      "source": [
        "from joblib import Parallel, delayed\n",
        "import joblib\n",
        "# Save the model as a pickle in a file\n",
        "joblib.dump(QBC, '/content/drive/MyDrive/QC Code/model/QBC.pkl')"
      ]
    }
  ],
  "metadata": {
    "colab": {
      "provenance": [],
      "mount_file_id": "1NAxj3xyCv2Lg3PhkUGxZnKrwdaahORpC",
      "authorship_tag": "ABX9TyOD2kmE6rtZAF4nzUD+6Ysc",
      "include_colab_link": true
    },
    "kernelspec": {
      "display_name": "Python 3",
      "name": "python3"
    },
    "language_info": {
      "name": "python"
    }
  },
  "nbformat": 4,
  "nbformat_minor": 0
}