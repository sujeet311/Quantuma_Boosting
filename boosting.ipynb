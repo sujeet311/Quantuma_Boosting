{
  "nbformat": 4,
  "nbformat_minor": 0,
  "metadata": {
    "colab": {
      "provenance": [],
      "include_colab_link": true
    },
    "kernelspec": {
      "name": "python3",
      "display_name": "Python 3"
    },
    "language_info": {
      "name": "python"
    }
  },
  "cells": [
    {
      "cell_type": "markdown",
      "metadata": {
        "id": "view-in-github",
        "colab_type": "text"
      },
      "source": [
        "<a href=\"https://colab.research.google.com/github/sujeet311/Quantuma_Boosting/blob/main/boosting.ipynb\" target=\"_parent\"><img src=\"https://colab.research.google.com/assets/colab-badge.svg\" alt=\"Open In Colab\"/></a>"
      ]
    },
    {
      "cell_type": "code",
      "source": [
        "from google.colab import drive\n",
        "drive.mount('/content/drive')"
      ],
      "metadata": {
        "colab": {
          "base_uri": "https://localhost:8080/"
        },
        "id": "d3nTZ3tKBHUj",
        "outputId": "1b8ce477-8e30-4d57-fae3-0b1d462995ff"
      },
      "execution_count": null,
      "outputs": [
        {
          "output_type": "stream",
          "name": "stdout",
          "text": [
            "Mounted at /content/drive\n"
          ]
        }
      ]
    },
    {
      "cell_type": "code",
      "execution_count": null,
      "metadata": {
        "id": "ECDDsQXwaoGt"
      },
      "outputs": [],
      "source": [
        "from numpy import loadtxt\n",
        "X_train = loadtxt('/content/drive/MyDrive/FINALCODE/Data/traintest/X_train.csv',delimiter=',')\n",
        "y_train = loadtxt('/content/drive/MyDrive/FINALCODE/Data/traintest/y_train.csv',delimiter=',')\n",
        "X_test = loadtxt('/content/drive/MyDrive/FINALCODE/Data/traintest/X_test.csv',delimiter=',')\n",
        "y_test = loadtxt('/content/drive/MyDrive/FINALCODE/Data/traintest/y_test.csv',delimiter=',')"
      ]
    },
    {
      "cell_type": "code",
      "source": [
        "y_train = (2* y_train )-1\n",
        "y_test = (2* y_test) -1"
      ],
      "metadata": {
        "id": "EzDD7uQyAg9L"
      },
      "execution_count": null,
      "outputs": []
    },
    {
      "cell_type": "code",
      "source": [
        "# scaling data\n",
        "\n",
        "from sklearn.preprocessing import StandardScaler\n",
        "\n",
        "scaler = StandardScaler()\n",
        "\n",
        "X_train = scaler.fit_transform(X_train)\n",
        "X_test = scaler.transform(X_test)"
      ],
      "metadata": {
        "id": "Oko7LvXycTXj"
      },
      "execution_count": null,
      "outputs": []
    },
    {
      "cell_type": "code",
      "source": [
        "import pandas as pd\n",
        "import numpy as np\n",
        "import seaborn as sns\n",
        "import matplotlib.pyplot as plt\n",
        "import warnings\n",
        "from joblib import Parallel, delayed\n",
        "import joblib\n",
        "import time\n",
        "from sklearn.metrics import make_scorer, f1_score, recall_score, precision_score, roc_curve,accuracy_score\n",
        "from sklearn.metrics import classification_report, confusion_matrix, accuracy_score\n",
        "from sklearn.model_selection import cross_val_score\n"
      ],
      "metadata": {
        "id": "IYBoJ_oqbhgu"
      },
      "execution_count": null,
      "outputs": []
    },
    {
      "cell_type": "code",
      "source": [
        "from joblib import Parallel, delayed\n",
        "import joblib\n",
        "dtc = joblib.load('/content/drive/MyDrive/FINALCODE/Model/dtc.pkl' )"
      ],
      "metadata": {
        "id": "ZJ0oJMVkbZGM"
      },
      "execution_count": null,
      "outputs": []
    },
    {
      "cell_type": "code",
      "source": [
        "import itertools\n",
        "from itertools import chain\n",
        "\n",
        "# Confusion matrix\n",
        "def plot_confusion_matrix(cm, classe,\n",
        "                          normalize = False,\n",
        "                          title = 'Confusion matrix\"',\n",
        "                          cmap = plt.cm.Blues) :\n",
        "    plt.imshow(cm, interpolation = 'nearest', cmap = cmap)\n",
        "    plt.title(title)\n",
        "    plt.colorbar()\n",
        "    tick_marks = np.arange(len(classe))\n",
        "    plt.xticks(tick_marks, classe, rotation = 0)\n",
        "    plt.yticks(tick_marks, classe)\n",
        "\n",
        "    thresh = cm.max() / 2.\n",
        "    for i, j in itertools.product(range(cm.shape[0]), range(cm.shape[1])) :\n",
        "        plt.text(j, i, cm[i, j],\n",
        "                 horizontalalignment = 'center',\n",
        "                 color = 'white' if cm[i, j] > thresh else 'black')\n",
        "\n",
        "    plt.tight_layout()\n",
        "    plt.ylabel('True label')\n",
        "    plt.xlabel('Predicted label')\n",
        "\n",
        "# Show metrics\n",
        "def show_metrics():\n",
        "    tp = cm[1,1]\n",
        "    fn = cm[1,0]\n",
        "    fp = cm[0,1]\n",
        "    tn = cm[0,0]\n",
        "    print('Accuracy  =     {:.3f}'.format((tp+tn)/(tp+tn+fp+fn)))\n",
        "    print('Precision =     {:.3f}'.format(tp/(tp+fp)))\n",
        "    print('Recall    =     {:.3f}'.format(tp/(tp+fn)))\n",
        "    print('F1_score  =     {:.3f}'.format(2*(((tp/(tp+fp))*(tp/(tp+fn)))/\n",
        "                                                 ((tp/(tp+fp))+(tp/(tp+fn))))))"
      ],
      "metadata": {
        "id": "xQnvwRt4B4Qa"
      },
      "execution_count": null,
      "outputs": []
    },
    {
      "cell_type": "markdown",
      "source": [
        "# Adaboost\n",
        "\n",
        "---\n",
        "\n"
      ],
      "metadata": {
        "id": "sKomfMjpTuy2"
      }
    },
    {
      "cell_type": "code",
      "source": [
        "from sklearn.ensemble import AdaBoostClassifier\n",
        "\n",
        "ada = AdaBoostClassifier(dtc, n_estimators = 180)\n",
        "t=time.time()\n",
        "ada.fit(X_train, y_train)\n",
        "y_pred = ada.predict(X_test)\n",
        "# accuracy score\n",
        "\n",
        "print(accuracy_score(y_train, ada.predict(X_train)))\n",
        "\n",
        "ada_acc = accuracy_score(y_test, y_pred)\n",
        "print(ada_acc)\n",
        "# confusion matrix\n",
        "cm= confusion_matrix(y_test, y_pred)\n",
        "print(cm)# confusion matrix\n",
        "# classification report\n",
        "target_names = ['0','1']\n",
        "print(classification_report(y_test, y_pred,target_names=target_names))\n",
        "\n",
        "elapsed_ab = time.time()-t\n",
        "elapsed_ab\n"
      ],
      "metadata": {
        "colab": {
          "base_uri": "https://localhost:8080/"
        },
        "id": "0JRy1_9UbuWb",
        "outputId": "911abe00-080e-4606-b5fc-93af141ff94c"
      },
      "execution_count": null,
      "outputs": [
        {
          "output_type": "stream",
          "name": "stdout",
          "text": [
            "0.9959577697178156\n",
            "0.9403482898471195\n",
            "[[52037  5993]\n",
            " [  964 57633]]\n",
            "              precision    recall  f1-score   support\n",
            "\n",
            "           0       0.98      0.90      0.94     58030\n",
            "           1       0.91      0.98      0.94     58597\n",
            "\n",
            "    accuracy                           0.94    116627\n",
            "   macro avg       0.94      0.94      0.94    116627\n",
            "weighted avg       0.94      0.94      0.94    116627\n",
            "\n"
          ]
        },
        {
          "output_type": "execute_result",
          "data": {
            "text/plain": [
              "224.60008430480957"
            ]
          },
          "metadata": {},
          "execution_count": 10
        }
      ]
    },
    {
      "cell_type": "code",
      "source": [
        "from xgboost import XGBClassifier\n",
        "\n",
        "xgb = XGBClassifier(estimator = dtc, objective = 'binary:logistic', learning_rate = 0.1, max_depth = 9, n_estimators = 140)\n",
        "t=time.time()\n",
        "xgb.fit(X_train, y_train)\n",
        "y_pred = xgb.predict(X_test)\n",
        "# accuracy score\n",
        "\n",
        "print(accuracy_score(y_train, xgb.predict(X_train)))\n",
        "\n",
        "xgb_acc = accuracy_score(y_test, y_pred)\n",
        "print(xgb_acc)\n",
        "# confusion matrix\n",
        "target_names = ['0','1']\n",
        "cfm1 = confusion_matrix(y_test, y_pred)\n",
        "print(confusion_matrix(y_test, y_pred))\n",
        "# classification report\n",
        "\n",
        "print(classification_report(y_test, y_pred,target_names=target_names))\n",
        "elapsed_ab = time.time()-t\n",
        "elapsed_ab"
      ],
      "metadata": {
        "colab": {
          "base_uri": "https://localhost:8080/"
        },
        "id": "-XaZoAsycbVp",
        "outputId": "964d61c2-231d-4afb-b573-1f6f3d36fc05"
      },
      "execution_count": null,
      "outputs": [
        {
          "output_type": "stream",
          "name": "stdout",
          "text": [
            "0.8001227368103864\n",
            "0.7783875088958817\n",
            "[[42072 15958]\n",
            " [ 9888 48709]]\n",
            "              precision    recall  f1-score   support\n",
            "\n",
            "           0       0.81      0.73      0.77     58030\n",
            "           1       0.75      0.83      0.79     58597\n",
            "\n",
            "    accuracy                           0.78    116627\n",
            "   macro avg       0.78      0.78      0.78    116627\n",
            "weighted avg       0.78      0.78      0.78    116627\n",
            "\n"
          ]
        },
        {
          "output_type": "execute_result",
          "data": {
            "text/plain": [
              "107.79721760749817"
            ]
          },
          "metadata": {},
          "execution_count": 16
        }
      ]
    },
    {
      "cell_type": "code",
      "source": [
        "pip install catboost"
      ],
      "metadata": {
        "colab": {
          "base_uri": "https://localhost:8080/"
        },
        "id": "QsOQDQyFbosA",
        "outputId": "2faa3329-aa0a-4f9b-c495-20755b24d728",
        "collapsed": true
      },
      "execution_count": null,
      "outputs": [
        {
          "output_type": "stream",
          "name": "stdout",
          "text": [
            "Looking in indexes: https://pypi.org/simple, https://us-python.pkg.dev/colab-wheels/public/simple/\n",
            "Collecting catboost\n",
            "  Downloading catboost-1.0.6-cp37-none-manylinux1_x86_64.whl (76.6 MB)\n",
            "\u001b[K     |████████████████████████████████| 76.6 MB 1.3 MB/s \n",
            "\u001b[?25hRequirement already satisfied: graphviz in /usr/local/lib/python3.7/dist-packages (from catboost) (0.10.1)\n",
            "Requirement already satisfied: scipy in /usr/local/lib/python3.7/dist-packages (from catboost) (1.7.3)\n",
            "Requirement already satisfied: pandas>=0.24.0 in /usr/local/lib/python3.7/dist-packages (from catboost) (1.3.5)\n",
            "Requirement already satisfied: plotly in /usr/local/lib/python3.7/dist-packages (from catboost) (5.5.0)\n",
            "Requirement already satisfied: numpy>=1.16.0 in /usr/local/lib/python3.7/dist-packages (from catboost) (1.21.6)\n",
            "Requirement already satisfied: six in /usr/local/lib/python3.7/dist-packages (from catboost) (1.15.0)\n",
            "Requirement already satisfied: matplotlib in /usr/local/lib/python3.7/dist-packages (from catboost) (3.2.2)\n",
            "Requirement already satisfied: python-dateutil>=2.7.3 in /usr/local/lib/python3.7/dist-packages (from pandas>=0.24.0->catboost) (2.8.2)\n",
            "Requirement already satisfied: pytz>=2017.3 in /usr/local/lib/python3.7/dist-packages (from pandas>=0.24.0->catboost) (2022.2.1)\n",
            "Requirement already satisfied: cycler>=0.10 in /usr/local/lib/python3.7/dist-packages (from matplotlib->catboost) (0.11.0)\n",
            "Requirement already satisfied: pyparsing!=2.0.4,!=2.1.2,!=2.1.6,>=2.0.1 in /usr/local/lib/python3.7/dist-packages (from matplotlib->catboost) (3.0.9)\n",
            "Requirement already satisfied: kiwisolver>=1.0.1 in /usr/local/lib/python3.7/dist-packages (from matplotlib->catboost) (1.4.4)\n",
            "Requirement already satisfied: typing-extensions in /usr/local/lib/python3.7/dist-packages (from kiwisolver>=1.0.1->matplotlib->catboost) (4.1.1)\n",
            "Requirement already satisfied: tenacity>=6.2.0 in /usr/local/lib/python3.7/dist-packages (from plotly->catboost) (8.0.1)\n",
            "Installing collected packages: catboost\n",
            "Successfully installed catboost-1.0.6\n"
          ]
        }
      ]
    },
    {
      "cell_type": "code",
      "source": [
        "from catboost import CatBoostClassifier\n",
        "\n",
        "cgb = CatBoostClassifier(learning_rate = 0.1, max_depth= 9, n_estimators= 140)\n",
        "t=time.time()\n",
        "cgb.fit(X_train, y_train)\n",
        "y_pred = cgb.predict(X_test)\n",
        "# accuracy score\n",
        "\n",
        "print(accuracy_score(y_train, cgb.predict(X_train)))\n",
        "\n",
        "cgb_acc = accuracy_score(y_test, y_pred)\n",
        "print(cgb_acc)\n",
        "# confusion matrix\n",
        "target_names = ['0','1']\n",
        "cfm = confusion_matrix(y_test, y_pred)\n",
        "print(confusion_matrix(y_test, y_pred))\n",
        "# classification report\n",
        "target_names = ['0','1']\n",
        "print(classification_report(y_test, y_pred,target_names=target_names))\n",
        "elapsed_ab = time.time()-t\n",
        "elapsed_ab"
      ],
      "metadata": {
        "colab": {
          "base_uri": "https://localhost:8080/"
        },
        "id": "COacpVfNccP9",
        "outputId": "10b5ca34-4210-4f23-c7ac-c820b7c27623"
      },
      "execution_count": null,
      "outputs": [
        {
          "output_type": "stream",
          "name": "stdout",
          "text": [
            "0:\tlearn: 0.6596208\ttotal: 87.8ms\tremaining: 12.2s\n",
            "1:\tlearn: 0.6317485\ttotal: 179ms\tremaining: 12.3s\n",
            "2:\tlearn: 0.6105352\ttotal: 261ms\tremaining: 11.9s\n",
            "3:\tlearn: 0.5933723\ttotal: 353ms\tremaining: 12s\n",
            "4:\tlearn: 0.5804063\ttotal: 442ms\tremaining: 11.9s\n",
            "5:\tlearn: 0.5698522\ttotal: 530ms\tremaining: 11.8s\n",
            "6:\tlearn: 0.5608776\ttotal: 618ms\tremaining: 11.7s\n",
            "7:\tlearn: 0.5532928\ttotal: 702ms\tremaining: 11.6s\n",
            "8:\tlearn: 0.5472045\ttotal: 788ms\tremaining: 11.5s\n",
            "9:\tlearn: 0.5423223\ttotal: 872ms\tremaining: 11.3s\n",
            "10:\tlearn: 0.5380456\ttotal: 952ms\tremaining: 11.2s\n",
            "11:\tlearn: 0.5346933\ttotal: 1.04s\tremaining: 11.1s\n",
            "12:\tlearn: 0.5319683\ttotal: 1.14s\tremaining: 11.1s\n",
            "13:\tlearn: 0.5294890\ttotal: 1.22s\tremaining: 11s\n",
            "14:\tlearn: 0.5271713\ttotal: 1.31s\tremaining: 10.9s\n",
            "15:\tlearn: 0.5252996\ttotal: 1.39s\tremaining: 10.7s\n",
            "16:\tlearn: 0.5234568\ttotal: 1.47s\tremaining: 10.6s\n",
            "17:\tlearn: 0.5220674\ttotal: 1.55s\tremaining: 10.5s\n",
            "18:\tlearn: 0.5205967\ttotal: 1.64s\tremaining: 10.5s\n",
            "19:\tlearn: 0.5194251\ttotal: 1.72s\tremaining: 10.3s\n",
            "20:\tlearn: 0.5184670\ttotal: 1.8s\tremaining: 10.2s\n",
            "21:\tlearn: 0.5175539\ttotal: 1.88s\tremaining: 10.1s\n",
            "22:\tlearn: 0.5166869\ttotal: 1.96s\tremaining: 9.97s\n",
            "23:\tlearn: 0.5158825\ttotal: 2.04s\tremaining: 9.88s\n",
            "24:\tlearn: 0.5150496\ttotal: 2.14s\tremaining: 9.84s\n",
            "25:\tlearn: 0.5143458\ttotal: 2.23s\tremaining: 9.78s\n",
            "26:\tlearn: 0.5137601\ttotal: 2.31s\tremaining: 9.66s\n",
            "27:\tlearn: 0.5132140\ttotal: 2.39s\tremaining: 9.57s\n",
            "28:\tlearn: 0.5127623\ttotal: 2.47s\tremaining: 9.46s\n",
            "29:\tlearn: 0.5121466\ttotal: 2.55s\tremaining: 9.35s\n",
            "30:\tlearn: 0.5116190\ttotal: 2.63s\tremaining: 9.25s\n",
            "31:\tlearn: 0.5111336\ttotal: 2.71s\tremaining: 9.14s\n",
            "32:\tlearn: 0.5106017\ttotal: 2.79s\tremaining: 9.03s\n",
            "33:\tlearn: 0.5099629\ttotal: 2.87s\tremaining: 8.94s\n",
            "34:\tlearn: 0.5094422\ttotal: 2.95s\tremaining: 8.86s\n",
            "35:\tlearn: 0.5089514\ttotal: 3.03s\tremaining: 8.76s\n",
            "36:\tlearn: 0.5086354\ttotal: 3.12s\tremaining: 8.67s\n",
            "37:\tlearn: 0.5082368\ttotal: 3.24s\tremaining: 8.69s\n",
            "38:\tlearn: 0.5077732\ttotal: 3.32s\tremaining: 8.61s\n",
            "39:\tlearn: 0.5072401\ttotal: 3.4s\tremaining: 8.51s\n",
            "40:\tlearn: 0.5067554\ttotal: 3.48s\tremaining: 8.41s\n",
            "41:\tlearn: 0.5061885\ttotal: 3.57s\tremaining: 8.33s\n",
            "42:\tlearn: 0.5059023\ttotal: 3.64s\tremaining: 8.21s\n",
            "43:\tlearn: 0.5055060\ttotal: 3.72s\tremaining: 8.11s\n",
            "44:\tlearn: 0.5050796\ttotal: 3.81s\tremaining: 8.04s\n",
            "45:\tlearn: 0.5047774\ttotal: 3.89s\tremaining: 7.94s\n",
            "46:\tlearn: 0.5044299\ttotal: 3.97s\tremaining: 7.85s\n",
            "47:\tlearn: 0.5041324\ttotal: 4.05s\tremaining: 7.76s\n",
            "48:\tlearn: 0.5038259\ttotal: 4.13s\tremaining: 7.67s\n",
            "49:\tlearn: 0.5033776\ttotal: 4.22s\tremaining: 7.61s\n",
            "50:\tlearn: 0.5028258\ttotal: 4.32s\tremaining: 7.53s\n",
            "51:\tlearn: 0.5025905\ttotal: 4.39s\tremaining: 7.43s\n",
            "52:\tlearn: 0.5022215\ttotal: 4.48s\tremaining: 7.35s\n",
            "53:\tlearn: 0.5019827\ttotal: 4.56s\tremaining: 7.26s\n",
            "54:\tlearn: 0.5015159\ttotal: 4.64s\tremaining: 7.18s\n",
            "55:\tlearn: 0.5012344\ttotal: 4.72s\tremaining: 7.09s\n",
            "56:\tlearn: 0.5007788\ttotal: 4.81s\tremaining: 7s\n",
            "57:\tlearn: 0.5004601\ttotal: 4.89s\tremaining: 6.92s\n",
            "58:\tlearn: 0.5002564\ttotal: 4.97s\tremaining: 6.83s\n",
            "59:\tlearn: 0.4999777\ttotal: 5.06s\tremaining: 6.74s\n",
            "60:\tlearn: 0.4995909\ttotal: 5.14s\tremaining: 6.65s\n",
            "61:\tlearn: 0.4991426\ttotal: 5.23s\tremaining: 6.58s\n",
            "62:\tlearn: 0.4987991\ttotal: 5.32s\tremaining: 6.51s\n",
            "63:\tlearn: 0.4984570\ttotal: 5.4s\tremaining: 6.42s\n",
            "64:\tlearn: 0.4982033\ttotal: 5.48s\tremaining: 6.32s\n",
            "65:\tlearn: 0.4978763\ttotal: 5.56s\tremaining: 6.24s\n",
            "66:\tlearn: 0.4974990\ttotal: 5.64s\tremaining: 6.15s\n",
            "67:\tlearn: 0.4971908\ttotal: 5.72s\tremaining: 6.05s\n",
            "68:\tlearn: 0.4968689\ttotal: 5.8s\tremaining: 5.97s\n",
            "69:\tlearn: 0.4964245\ttotal: 5.89s\tremaining: 5.89s\n",
            "70:\tlearn: 0.4960209\ttotal: 5.97s\tremaining: 5.8s\n",
            "71:\tlearn: 0.4956589\ttotal: 6.05s\tremaining: 5.71s\n",
            "72:\tlearn: 0.4951930\ttotal: 6.13s\tremaining: 5.63s\n",
            "73:\tlearn: 0.4949523\ttotal: 6.21s\tremaining: 5.54s\n",
            "74:\tlearn: 0.4945917\ttotal: 6.32s\tremaining: 5.47s\n",
            "75:\tlearn: 0.4942368\ttotal: 6.39s\tremaining: 5.38s\n",
            "76:\tlearn: 0.4940436\ttotal: 6.46s\tremaining: 5.29s\n",
            "77:\tlearn: 0.4937792\ttotal: 6.55s\tremaining: 5.2s\n",
            "78:\tlearn: 0.4935557\ttotal: 6.63s\tremaining: 5.12s\n",
            "79:\tlearn: 0.4931698\ttotal: 6.71s\tremaining: 5.03s\n",
            "80:\tlearn: 0.4928712\ttotal: 6.79s\tremaining: 4.95s\n",
            "81:\tlearn: 0.4927002\ttotal: 6.87s\tremaining: 4.86s\n",
            "82:\tlearn: 0.4924186\ttotal: 6.95s\tremaining: 4.77s\n",
            "83:\tlearn: 0.4922967\ttotal: 7.03s\tremaining: 4.69s\n",
            "84:\tlearn: 0.4921204\ttotal: 7.11s\tremaining: 4.6s\n",
            "85:\tlearn: 0.4918399\ttotal: 7.19s\tremaining: 4.51s\n",
            "86:\tlearn: 0.4914018\ttotal: 7.29s\tremaining: 4.44s\n",
            "87:\tlearn: 0.4910315\ttotal: 7.37s\tremaining: 4.35s\n",
            "88:\tlearn: 0.4908681\ttotal: 7.44s\tremaining: 4.26s\n",
            "89:\tlearn: 0.4905320\ttotal: 7.53s\tremaining: 4.18s\n",
            "90:\tlearn: 0.4902679\ttotal: 7.61s\tremaining: 4.1s\n",
            "91:\tlearn: 0.4900311\ttotal: 7.68s\tremaining: 4.01s\n",
            "92:\tlearn: 0.4897587\ttotal: 7.76s\tremaining: 3.92s\n",
            "93:\tlearn: 0.4894672\ttotal: 7.84s\tremaining: 3.84s\n",
            "94:\tlearn: 0.4893469\ttotal: 7.93s\tremaining: 3.75s\n",
            "95:\tlearn: 0.4890095\ttotal: 8.01s\tremaining: 3.67s\n",
            "96:\tlearn: 0.4888114\ttotal: 8.09s\tremaining: 3.59s\n",
            "97:\tlearn: 0.4884677\ttotal: 8.18s\tremaining: 3.51s\n",
            "98:\tlearn: 0.4882790\ttotal: 8.28s\tremaining: 3.43s\n",
            "99:\tlearn: 0.4880857\ttotal: 8.37s\tremaining: 3.35s\n",
            "100:\tlearn: 0.4877171\ttotal: 8.45s\tremaining: 3.26s\n",
            "101:\tlearn: 0.4873387\ttotal: 8.54s\tremaining: 3.18s\n",
            "102:\tlearn: 0.4869434\ttotal: 8.62s\tremaining: 3.1s\n",
            "103:\tlearn: 0.4866514\ttotal: 8.71s\tremaining: 3.01s\n",
            "104:\tlearn: 0.4865226\ttotal: 8.79s\tremaining: 2.93s\n",
            "105:\tlearn: 0.4860617\ttotal: 8.87s\tremaining: 2.85s\n",
            "106:\tlearn: 0.4858799\ttotal: 8.96s\tremaining: 2.76s\n",
            "107:\tlearn: 0.4857121\ttotal: 9.04s\tremaining: 2.68s\n",
            "108:\tlearn: 0.4853075\ttotal: 9.12s\tremaining: 2.59s\n",
            "109:\tlearn: 0.4848866\ttotal: 9.21s\tremaining: 2.51s\n",
            "110:\tlearn: 0.4845528\ttotal: 9.3s\tremaining: 2.43s\n",
            "111:\tlearn: 0.4842350\ttotal: 9.39s\tremaining: 2.35s\n",
            "112:\tlearn: 0.4839499\ttotal: 9.47s\tremaining: 2.26s\n",
            "113:\tlearn: 0.4838105\ttotal: 9.55s\tremaining: 2.18s\n",
            "114:\tlearn: 0.4834359\ttotal: 9.63s\tremaining: 2.09s\n",
            "115:\tlearn: 0.4832500\ttotal: 9.71s\tremaining: 2.01s\n",
            "116:\tlearn: 0.4829543\ttotal: 9.8s\tremaining: 1.93s\n",
            "117:\tlearn: 0.4826456\ttotal: 9.88s\tremaining: 1.84s\n",
            "118:\tlearn: 0.4823580\ttotal: 9.97s\tremaining: 1.76s\n",
            "119:\tlearn: 0.4821571\ttotal: 10.1s\tremaining: 1.68s\n",
            "120:\tlearn: 0.4818208\ttotal: 10.1s\tremaining: 1.59s\n",
            "121:\tlearn: 0.4816775\ttotal: 10.2s\tremaining: 1.51s\n",
            "122:\tlearn: 0.4814634\ttotal: 10.3s\tremaining: 1.43s\n",
            "123:\tlearn: 0.4812774\ttotal: 10.4s\tremaining: 1.34s\n",
            "124:\tlearn: 0.4808537\ttotal: 10.5s\tremaining: 1.26s\n",
            "125:\tlearn: 0.4806657\ttotal: 10.6s\tremaining: 1.18s\n",
            "126:\tlearn: 0.4804442\ttotal: 10.7s\tremaining: 1.09s\n",
            "127:\tlearn: 0.4800621\ttotal: 10.7s\tremaining: 1.01s\n",
            "128:\tlearn: 0.4798007\ttotal: 10.8s\tremaining: 923ms\n",
            "129:\tlearn: 0.4794656\ttotal: 10.9s\tremaining: 839ms\n",
            "130:\tlearn: 0.4792534\ttotal: 11s\tremaining: 755ms\n",
            "131:\tlearn: 0.4790243\ttotal: 11.1s\tremaining: 672ms\n",
            "132:\tlearn: 0.4786802\ttotal: 11.2s\tremaining: 588ms\n",
            "133:\tlearn: 0.4784217\ttotal: 11.2s\tremaining: 504ms\n",
            "134:\tlearn: 0.4781134\ttotal: 11.3s\tremaining: 420ms\n",
            "135:\tlearn: 0.4777941\ttotal: 11.4s\tremaining: 336ms\n",
            "136:\tlearn: 0.4775451\ttotal: 11.5s\tremaining: 252ms\n",
            "137:\tlearn: 0.4772792\ttotal: 11.6s\tremaining: 168ms\n",
            "138:\tlearn: 0.4770446\ttotal: 11.7s\tremaining: 84ms\n",
            "139:\tlearn: 0.4767181\ttotal: 11.8s\tremaining: 0us\n",
            "0.7673108511834548\n",
            "0.7560427688271155\n",
            "[[41208 16822]\n",
            " [11630 46967]]\n",
            "              precision    recall  f1-score   support\n",
            "\n",
            "           0       0.78      0.71      0.74     58030\n",
            "           1       0.74      0.80      0.77     58597\n",
            "\n",
            "    accuracy                           0.76    116627\n",
            "   macro avg       0.76      0.76      0.76    116627\n",
            "weighted avg       0.76      0.76      0.76    116627\n",
            "\n"
          ]
        },
        {
          "output_type": "execute_result",
          "data": {
            "text/plain": [
              "17.781879425048828"
            ]
          },
          "metadata": {},
          "execution_count": 15
        }
      ]
    },
    {
      "cell_type": "code",
      "source": [
        "from joblib import Parallel, delayed\n",
        "import joblib\n",
        "# Save the model as a pickle in a file\n",
        "joblib.dump(cgb, '/content/drive/MyDrive/FINALCODE/Model/cgb.pkl')\n",
        "# Save the model as a pickle in a file\n",
        "joblib.dump(xgb, '/content/drive/MyDrive/FINALCODE/Model/xgb.pkl')\n",
        "# Save the model as a pickle in a file\n",
        "joblib.dump(ada, '/content/drive/MyDrive/FINALCODE/Model/ada.pkl')\n"
      ],
      "metadata": {
        "id": "7OGkRXmAeo11",
        "colab": {
          "base_uri": "https://localhost:8080/"
        },
        "outputId": "a1f1e583-47fb-48c2-c6da-3b291ae9be8f"
      },
      "execution_count": null,
      "outputs": [
        {
          "output_type": "execute_result",
          "data": {
            "text/plain": [
              "['/content/drive/MyDrive/FINALCODE/Model/ada.pkl']"
            ]
          },
          "metadata": {},
          "execution_count": 17
        }
      ]
    }
  ]
}